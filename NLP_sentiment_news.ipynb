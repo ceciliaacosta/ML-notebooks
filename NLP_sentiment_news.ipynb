{
 "cells": [
  {
   "cell_type": "markdown",
   "metadata": {
    "id": "oRkr_xDct7Z-"
   },
   "source": [
    "# MiniProject 2\n",
    "Group 31: Frida-Cecilia Acosta-Parenteau, Karl Michel Koerich, Simon Nakane Marcil"
   ]
  },
  {
   "cell_type": "code",
   "execution_count": 1,
   "metadata": {
    "id": "P_HBuTfAPuBV"
   },
   "outputs": [],
   "source": [
    "import numpy as np\n",
    "import pandas as pd\n",
    "from scipy.io import arff\n",
    "import urllib.request\n",
    "import io\n",
    "import seaborn as sns\n",
    "\n",
    "%matplotlib inline                                  \n",
    "import matplotlib.pyplot as plt\n",
    "from IPython.core.debugger import set_trace\n",
    "\n",
    "# used for dataset feature extraction\n",
    "from sklearn import datasets\n",
    "from sklearn.feature_extraction.text import CountVectorizer\n",
    "from sklearn.feature_extraction.text import TfidfTransformer\n",
    "from sklearn.feature_selection import SelectPercentile, f_classif\n",
    "# used for comparison purposes only\n",
    "from sklearn import metrics\n",
    "from sklearn.naive_bayes import GaussianNB\n",
    "from sklearn.linear_model import LogisticRegression\n",
    "\n",
    "from scipy.sparse import csr_matrix\n",
    "\n",
    "np.random.seed(1234)"
   ]
  },
  {
   "cell_type": "markdown",
   "metadata": {
    "id": "DWM4jXB1QZnF"
   },
   "source": [
    "## 20 news group dataset\n",
    "The 20 Newsgroups data set is a collection of approximately 20,000 newsgroup documents, partitioned (nearly) evenly across 20 different newsgroups. To the best of our knowledge, it was originally collected by Ken Lang, probably for his paper “Newsweeder: Learning to filter netnews,” though he does not explicitly mention this collection. The 20 newsgroups collection has become a popular data set for experiments in text applications of machine learning techniques, such as text classification and text clustering.\n",
    "\n",
    "https://scikit-learn.org/stable/tutorial/text_analytics/working_with_text_data.html\n",
    "\n",
    "*   Classes:                    20\n",
    "*   Samples total:           18846\n",
    "*   Dimensionality:              1\n",
    "*   Features:                 text"
   ]
  },
  {
   "cell_type": "code",
   "execution_count": 2,
   "metadata": {
    "colab": {
     "base_uri": "https://localhost:8080/"
    },
    "id": "ArfhJvtUQ2tx",
    "outputId": "579e363b-e5e2-47d4-eac2-ae6825cc664f"
   },
   "outputs": [
    {
     "name": "stdout",
     "output_type": "stream",
     "text": [
      "(11314, 101631)\n"
     ]
    }
   ],
   "source": [
    "twenty_train = datasets.fetch_20newsgroups_vectorized(remove=(['headers', 'footers', 'quotes']))\n",
    "print(twenty_train['data'].shape)\n",
    "\n",
    "twenty_train = datasets.fetch_20newsgroups(remove=(['headers', 'footers', 'quotes'])) # subset='train' by defaul"
   ]
  },
  {
   "cell_type": "markdown",
   "metadata": {
    "id": "HNQnSmTnOb-T"
   },
   "source": [
    "Feature extraction of 20 newsgroups"
   ]
  },
  {
   "cell_type": "code",
   "execution_count": 3,
   "metadata": {
    "colab": {
     "base_uri": "https://localhost:8080/"
    },
    "id": "7VU6cgHiXB00",
    "outputId": "071d140d-ec64-4757-db63-aa9b65eb9d67"
   },
   "outputs": [
    {
     "name": "stdout",
     "output_type": "stream",
     "text": [
      "Occurrence size:  (11314, 39115)\n",
      "Frequency size:  (11314, 39115)\n"
     ]
    }
   ],
   "source": [
    "# exclude english stop_words and frequencies less than 2\n",
    "count_vect = CountVectorizer(stop_words='english', min_df=2)\n",
    "\n",
    "twenty_train_counts = count_vect.fit_transform(twenty_train['data'])\n",
    "print(\"Occurrence size: \", twenty_train_counts.shape)\n",
    "\n",
    "# get frequencies instead of occurences\n",
    "tf_transformer = TfidfTransformer()\n",
    "\n",
    "twenty_train_tf = tf_transformer.fit_transform(twenty_train_counts)\n",
    "print(\"Frequency size: \", twenty_train_tf.shape)"
   ]
  },
  {
   "cell_type": "markdown",
   "metadata": {
    "id": "HwzHJ98FRm7r"
   },
   "source": [
    "Train and test data"
   ]
  },
  {
   "cell_type": "code",
   "execution_count": 4,
   "metadata": {
    "colab": {
     "base_uri": "https://localhost:8080/"
    },
    "id": "7CyNbPRJrAzr",
    "outputId": "f1562347-765a-4beb-d4e5-833c92bf6798"
   },
   "outputs": [
    {
     "name": "stdout",
     "output_type": "stream",
     "text": [
      "instances (N) \t 11314 \n",
      " features (D) \t 39115 \n",
      " classes (C) \t 20\n"
     ]
    }
   ],
   "source": [
    "x_twenty, y_twenty = twenty_train_tf, twenty_train['target']\n",
    "\n",
    "# print the feature shape and classes of dataset \n",
    "(N,D), C = x_twenty.shape, np.max(y_twenty)+1\n",
    "print(f'instances (N) \\t {N} \\n features (D) \\t {D} \\n classes (C) \\t {C}')\n",
    "\n",
    "inds = np.random.permutation(N)\n",
    "\n",
    "x_twenty_train, y_twenty_train = x_twenty[inds[:10000]], y_twenty[inds[:10000]]\n",
    "x_twenty_test, y_twenty_test = x_twenty[inds[10000:]], y_twenty[inds[10000:]]"
   ]
  },
  {
   "cell_type": "markdown",
   "metadata": {
    "id": "lnewkjmXR8S7"
   },
   "source": [
    "## Sentiment 140 dataset\n",
    "The data is a CSV with emoticons removed. Data file format has 6 fields:\n",
    "\n",
    "0.  the polarity of the tweet (0 = negative, 2 = neutral, 4 = positive)\n",
    "1.  the id of the tweet (2087)\n",
    "2.  the date of the tweet (Sat May 16 23:58:44 UTC 2009)\n",
    "3.  the query (lyx). If there is no query, then this value is NO_QUERY.\n",
    "4.  the user that tweeted (robotickilldozr)\n",
    "5.  the text of the tweet (Lyx is cool)\n",
    "\n",
    "http://help.sentiment140.com/for-students"
   ]
  },
  {
   "cell_type": "code",
   "execution_count": 5,
   "metadata": {
    "id": "GyRcIrKfT0vG"
   },
   "outputs": [],
   "source": [
    "# extract dataset from file\n",
    "senti_df_train= pd.read_csv(\"training.1600000.processed.noemoticon.csv\", encoding='latin-1')\n",
    "\n",
    "senti_df_train.columns =['Class1', 'ID', 'date', 'NO_QUERY', 'user', \"text_train\"]\n",
    "senti_df_train.drop(labels=['ID','date','NO_QUERY', 'user'],axis=1, inplace=True)\n",
    "dummies=pd.get_dummies(senti_df_train['Class1'])\n",
    "dummies.columns=[\"negative=1\", \"Class_train\"]\n",
    "\n",
    "merged=pd.concat([dummies,senti_df_train], axis='columns')\n",
    "merged.drop(labels=[\"negative=1\", \"Class1\"], axis=1, inplace=True)\n",
    "\n",
    "count= merged[\"Class_train\"]\n",
    "\n",
    "X_train=merged[\"text_train\"]\n",
    "Y_train=merged[\"Class_train\"]"
   ]
  },
  {
   "cell_type": "code",
   "execution_count": 6,
   "metadata": {
    "colab": {
     "base_uri": "https://localhost:8080/",
     "height": 300
    },
    "id": "Zk36xKIh7gvT",
    "outputId": "7716b2eb-53f2-48c2-e6f1-cffcc4df93dd"
   },
   "outputs": [
    {
     "name": "stdout",
     "output_type": "stream",
     "text": [
      "[799999, 800000]\n"
     ]
    },
    {
     "data": {
      "text/plain": [
       "<BarContainer object of 2 artists>"
      ]
     },
     "execution_count": 6,
     "metadata": {},
     "output_type": "execute_result"
    },
    {
     "data": {
      "image/png": "[encoded data removed]",
      "text/plain": [
       "<Figure size 576x288 with 1 Axes>"
      ]
     },
     "metadata": {
      "needs_background": "light"
     },
     "output_type": "display_data"
    }
   ],
   "source": [
    "# display count for classes\n",
    "fig = plt.figure(figsize = (8, 4))\n",
    "die_or_live = ['negative', 'positive']\n",
    "arr = merged[\"Class_train\"].astype(np.int64)\n",
    "counts = [np.count_nonzero(arr == 0), np.count_nonzero(arr == 1)]\n",
    "print(counts)\n",
    "plt.bar(die_or_live, counts, color ='maroon')"
   ]
  },
  {
   "cell_type": "markdown",
   "metadata": {
    "id": "Tl3UCeM5mkpZ"
   },
   "source": [
    "#### Test set "
   ]
  },
  {
   "cell_type": "code",
   "execution_count": 7,
   "metadata": {
    "colab": {
     "base_uri": "https://localhost:8080/",
     "height": 334
    },
    "id": "hu00Ahjdmgq1",
    "outputId": "c5d160c5-f9b6-4cba-968c-05ba813e81f8"
   },
   "outputs": [
    {
     "name": "stdout",
     "output_type": "stream",
     "text": [
      "(358,)\n",
      "(358,)\n",
      "[177, 181]\n"
     ]
    },
    {
     "data": {
      "text/plain": [
       "<BarContainer object of 2 artists>"
      ]
     },
     "execution_count": 7,
     "metadata": {},
     "output_type": "execute_result"
    },
    {
     "data": {
      "image/png": "[encoded data removed]",
      "text/plain": [
       "<Figure size 576x288 with 1 Axes>"
      ]
     },
     "metadata": {
      "needs_background": "light"
     },
     "output_type": "display_data"
    }
   ],
   "source": [
    "senti_test=pd.read_csv(\"testdata.manual.2009.06.14.csv\", encoding='latin-1')\n",
    "\n",
    "# california_housing_test.c sv\n",
    "senti_test.columns =['Class1', 'ID', 'date', 'NO_QUERY', 'user', \"text_test\"]\n",
    "senti_test.drop(labels=['ID','date','NO_QUERY', 'user'],axis=1, inplace=True)\n",
    "\n",
    "array = [0,4]\n",
    "senti_test=senti_test.loc[senti_test[\"Class1\"].isin(array)]\n",
    "\n",
    "dummies=pd.get_dummies(senti_test['Class1'])\n",
    "dummies.columns=[\"negative=1\", \"Class_test\"]\n",
    "merged=pd.concat([dummies,senti_test], axis='columns')\n",
    "\n",
    "merged.drop(labels=[\"negative=1\", \"Class1\"], axis=1, inplace=True)\n",
    "\n",
    "X_test=merged[\"text_test\"]\n",
    "print(X_test.shape)\n",
    "Y_test=merged[\"Class_test\"]\n",
    "print(Y_test.shape)\n",
    "\n",
    "# print count after reduction\n",
    "fig = plt.figure(figsize = (8, 4))\n",
    "die_or_live = ['negative', 'positive']\n",
    "arr = merged[\"Class_test\"].astype(np.int64)\n",
    "counts = [np.count_nonzero(arr == 0), np.count_nonzero(arr == 1)]\n",
    "print(counts)\n",
    "plt.bar(die_or_live, counts, color ='maroon')"
   ]
  },
  {
   "cell_type": "markdown",
   "metadata": {
    "id": "iZiNbpUb03cJ"
   },
   "source": [
    "Use this as test and train sparce matrices"
   ]
  },
  {
   "cell_type": "code",
   "execution_count": 8,
   "metadata": {
    "id": "S1AAZdmOhxg4"
   },
   "outputs": [],
   "source": [
    "count_vect = CountVectorizer(stop_words='english', min_df=5, max_df=0.5)\n",
    "x_train_matrix = count_vect.fit_transform(X_train)\n",
    "x_test_matrix = count_vect.transform(X_test)"
   ]
  },
  {
   "cell_type": "code",
   "execution_count": 9,
   "metadata": {
    "id": "d84_TPemHzl6"
   },
   "outputs": [],
   "source": [
    "selector = SelectPercentile(f_classif, percentile=20)\n",
    "selector.fit(x_train_matrix, Y_train)\n",
    "x_train_matrix_new = selector.transform(x_train_matrix)\n",
    "x_test_matrix_new= selector.transform(x_test_matrix)"
   ]
  },
  {
   "cell_type": "code",
   "execution_count": 10,
   "metadata": {
    "colab": {
     "base_uri": "https://localhost:8080/"
    },
    "id": "2Hz81ED_JDEd",
    "outputId": "b7f5bc9b-6b0a-491b-c183-7d571981c3ab"
   },
   "outputs": [
    {
     "name": "stdout",
     "output_type": "stream",
     "text": [
      "(1599999, 16315) (1599999, 81577)\n"
     ]
    }
   ],
   "source": [
    "print(x_train_matrix_new.shape, x_train_matrix.shape)"
   ]
  },
  {
   "cell_type": "markdown",
   "metadata": {
    "id": "d9qSDwJ1YW7M"
   },
   "source": [
    "#### Change the vectors to represent frequencies with TFIDF"
   ]
  },
  {
   "cell_type": "code",
   "execution_count": 11,
   "metadata": {
    "colab": {
     "base_uri": "https://localhost:8080/"
    },
    "id": "08YgP4pPmApb",
    "outputId": "52dd3f90-e1a5-4f75-e981-e5aa4cadf7e9"
   },
   "outputs": [
    {
     "data": {
      "text/plain": [
       "((1599999, 81577), (358, 81577))"
      ]
     },
     "execution_count": 11,
     "metadata": {},
     "output_type": "execute_result"
    }
   ],
   "source": [
    "tf_transformer = TfidfTransformer(use_idf=False).fit(x_train_matrix)\n",
    "X_train_tf = tf_transformer.transform(x_train_matrix)\n",
    "X_test_tf= tf_transformer.transform(x_test_matrix)\n",
    "\n",
    "X_train_tf.shape, X_test_tf.shape"
   ]
  },
  {
   "cell_type": "markdown",
   "metadata": {
    "id": "wsObenciT79-"
   },
   "source": [
    "# Naive Bayes"
   ]
  },
  {
   "cell_type": "code",
   "execution_count": 12,
   "metadata": {
    "id": "irz_JgWVUJdV"
   },
   "outputs": [],
   "source": [
    "class GaussianNaiveBayes:\n",
    "    \n",
    "    def __init__(self, var_smoothing=1e-15):\n",
    "        self.var_smoothing = var_smoothing\n",
    "        return\n",
    "    \n",
    "    def fit(self, x, y):\n",
    "        N, D = x.shape\n",
    "        C = np.max(y) + 1\n",
    "        # one parameter for each feature conditioned on each class\n",
    "        mu, sigma = np.zeros((C,D)), np.zeros((C,D))\n",
    "        Nc = np.zeros(C) # number of instances in class c\n",
    "        # for each class get the MLE for the mean and std\n",
    "        for c in range(C):\n",
    "            x_c = x[y == c]                         # slice all the elements from class c\n",
    "            Nc[c] = x_c.shape[0]                    # get number of elements of class c\n",
    "            mu[c,:] = np.mean(x_c)                  # mean of features of class c\n",
    "            sigma[c,:] = self.__stdv(x_c, axis=0)   # std of features of class c\n",
    "            \n",
    "        self.mu = mu                                  # C x D\n",
    "        self.sigma = sigma                            # C x D\n",
    "        self.pi = (Nc+1)/(N+C)                        # Laplace smoothing (using alpha_c=1 for all c) you can derive using Dirichlet's distribution\n",
    "        return self\n",
    "    \n",
    "    # Taken from https://gist.github.com/sumartoyo/edba2eee645457a98fdf046e1b4297e4\n",
    "    def __variance(self, a, axis=None):\n",
    "        \"\"\" Variance of sparse matrix a\n",
    "        var = mean(a**2) - mean(a)**2\n",
    "        \"\"\"\n",
    "        a_squared = a.copy()\n",
    "        a_squared.data **= 2\n",
    "        return a_squared.mean(axis) - np.square(a.mean(axis))\n",
    "\n",
    "    # Taken from https://gist.github.com/sumartoyo/edba2eee645457a98fdf046e1b4297e4\n",
    "    def __stdv(self, a, axis=None):\n",
    "        \"\"\" Standard deviation of sparse matrix a\n",
    "        std = sqrt(var(a))\n",
    "        \"\"\"\n",
    "        return np.sqrt(self.__variance(a, axis))\n",
    "    \n",
    "    def __logsumexp(self, Z):                   # dimension C x N\n",
    "        \n",
    "        Zmax = np.max(Z,axis=0)\n",
    "        Zmax = np.expand_dims(Zmax, axis=0) # max over C\n",
    "        log_sum_exp = Zmax + np.log(np.sum(np.exp(Z - Zmax), axis=0))\n",
    "        return log_sum_exp\n",
    "\n",
    "    def predict(self, xt):\n",
    "        \n",
    "        print(\"xt.shape:\", xt.shape)\n",
    "        Nt, D = xt.shape\n",
    "        \n",
    "        # for numerical stability we work in the log domain\n",
    "        # we add a dimension because this is added to the log-likelihood matrix \n",
    "        # that assigns a likelihood for each class (C) to each test point, and so it is C x N\n",
    "        log_prior = np.log(self.pi)\n",
    "        log_prior = np.expand_dims(log_prior, axis=1)\n",
    "        print(\"log_prior.shape:\", log_prior.shape)\n",
    "        \n",
    "        # from: https://github.com/scikit-learn/scikit-learn/blob/7e1e6d09b/sklearn/naive_bayes.py#L406\n",
    "        # if the ratio of data variance between dimensions is too small, it\n",
    "        # will cause numerical errors. To address this, we artificially\n",
    "        # boost the variance by epsilon\n",
    "        \n",
    "        # convert from sparse to dense\n",
    "        self.sigma = csr_matrix(self.sigma)\n",
    "        self.sigma = self.sigma.todense()\n",
    "        self.sigma = np.expand_dims(self.sigma, axis=1)\n",
    "        self.sigma = self.sigma + self.var_smoothing # boosting by epsilon\n",
    "        print(\"self.sigma.shape:\", self.sigma.shape)\n",
    "        \n",
    "        self.mu = csr_matrix(self.mu)\n",
    "        self.mu = self.mu.todense()\n",
    "        self.mu = np.expand_dims(self.mu, axis=1)\n",
    "        print(\"self.mu.shape\", self.mu.shape)\n",
    "        \n",
    "        xt = csr_matrix(xt)\n",
    "        xt = xt.todense()\n",
    "        xt = np.expand_dims(xt, axis=0)\n",
    "        print(\"xt.shape:\", xt.shape)\n",
    "        \n",
    "        # logarithm of the likelihood term for Gaussian \n",
    "        # the first two terms are the logarithm of the normalization term in the Gaussian and\n",
    "        # the final term is the exponent in the Gaussian. \n",
    "        # Notice that we are adding dimensions (using None) to model parameters and data to make\n",
    "        # this evaluation. The reason is that sigma and mu are C x D, while the data x is N x D.\n",
    "        # We operate on a C x N x D shape by increasing the number of dimensions when needed\n",
    "        \n",
    "        log_likelihood = -.5 * np.log(2*np.pi) - np.log(self.sigma) -.5 * (((xt - self.mu)/self.sigma)**2)\n",
    "        \n",
    "        # now we sum over the feature dimension to get a C x N matrix (this has the log-likelihood\n",
    "        # for each class-test point combination)\n",
    "        \n",
    "        log_likelihood = np.sum(log_likelihood, axis=2)\n",
    "        \n",
    "        # posterior calculation\n",
    "        log_posterior = log_prior + log_likelihood\n",
    "        print(\"log_posterior.shape:\", log_posterior.shape)\n",
    "        posterior = np.exp(log_posterior - self.__logsumexp(log_posterior))\n",
    "        \n",
    "        return posterior.T       # dimension N x C"
   ]
  },
  {
   "cell_type": "markdown",
   "metadata": {
    "id": "KSGa_NhpE1x8"
   },
   "source": [
    "# Logistic (softmax) regression\n",
    "from scikit-learn package"
   ]
  },
  {
   "cell_type": "markdown",
   "metadata": {
    "id": "g2UjBFrWUIlK"
   },
   "source": [
    "# k-fold cross validation"
   ]
  },
  {
   "cell_type": "code",
   "execution_count": 13,
   "metadata": {
    "id": "72Irb9zVXSKg"
   },
   "outputs": [],
   "source": [
    "# n is the number of rows in the dataset, n_folds is how many folds we want\n",
    "def cross_validation_split(x_train_data, y_train_data, n_folds=5):\n",
    "    #get the number of data samples in each split\n",
    "    n = x_train_data.shape[0]\n",
    "    n_val = n // n_folds\n",
    "    inds = np.random.permutation(n)\n",
    "    inds = []\n",
    "    for f in range(n_folds):\n",
    "        tr_inds = []\n",
    "        #get the validation indexes\n",
    "        val_inds = list(range(f * n_val, (f+1)*n_val))\n",
    "        #get the train indexes\n",
    "        if f > 0:\n",
    "            tr_inds = list(range(f*n_val))\n",
    "        if f < n_folds - 1:\n",
    "            tr_inds = tr_inds + list(range((f+1)*n_val, n))\n",
    "        \n",
    "        #The yield statement suspends function’s execution and sends a value back to the caller\n",
    "        #but retains enough state information to enable function to resume where it is left off\n",
    "        yield x_train_data[tr_inds], y_train_data[tr_inds], x_train_data[val_inds], y_train_data[val_inds]\n",
    "\n",
    "# function that computes accuracies for each fold of cross_validation_split\n",
    "def kfoldCV(x_train_data, y_train_data, model, n_folds=5, batch_size=500):\n",
    "    \n",
    "    fold_accuracies = []\n",
    "    i = 0\n",
    "    for x_train, y_train, x_valid, y_valid in cross_validation_split(x_train_data, y_train_data, n_folds=5):\n",
    "        \n",
    "        print(\"\\n----------------- Fold\", i, \"-----------------\")\n",
    "        y_prob = []\n",
    "        size_pred = y_valid.shape[0]\n",
    "        first = 0\n",
    "        second = 0\n",
    "        b = 0\n",
    "\n",
    "        while second < size_pred:\n",
    "            print(\"----------- Batch\", b, \"-----------\")\n",
    "            first = second\n",
    "            second += batch_size\n",
    "            if second > size_pred:\n",
    "                second = size_pred\n",
    "            model = model.fit(x_train, y_train)\n",
    "            if first == 0:\n",
    "                y_prob = model.predict(x_valid[first:second])\n",
    "            else:\n",
    "                y_prob = np.append(y_prob, model.predict(x_valid[first:second]), axis=0)\n",
    "            b += 1\n",
    "        \n",
    "        if len(y_prob.shape) > 1:\n",
    "            y_pred = np.argmax(y_prob, 1)\n",
    "        else:\n",
    "            y_pred = y_prob\n",
    "        fold_accuracies.append(evaluate_acc(y_pred, y_valid))\n",
    "        i += 1\n",
    "    \n",
    "    return fold_accuracies"
   ]
  },
  {
   "cell_type": "markdown",
   "metadata": {
    "id": "vJjDkzmKUY59"
   },
   "source": [
    "# Experiments"
   ]
  },
  {
   "cell_type": "code",
   "execution_count": 14,
   "metadata": {
    "id": "U9l6hCVbUc3e"
   },
   "outputs": [],
   "source": [
    "# function calculates Model's Accuracy=(TP+TN)/(P+N)\n",
    "def evaluate_acc(y_pred, y_test):\n",
    "    return np.sum(y_pred == y_test)/y_test.shape[0]"
   ]
  },
  {
   "cell_type": "markdown",
   "metadata": {
    "id": "_YkFl5maY-r5"
   },
   "source": [
    "1. We expect you to conduct multiclass classification on the 20 news group dataset and the Sentiment140 dataset.\n",
    "2. In a single table, compare and report the performance of the performance of naive Bayes and softmax regression on each of\n",
    "the two datasets (with their best hyperparameters), and highlight the winner for each dataset and overall. You could find the\n",
    "full list hyper-parameters for softmax regression here (tests don’t have to be exhaustive for entire list of softmax regression\n",
    "hyper-parameters but try different values of at least 2 different hyper-parameters).\n",
    "3. Further, with a plot, compare the accuracy of the two models as a function of the size of dataset (by controlling the training\n",
    "size). For example, you can randomly select 20%; 40%; 60% and 80% of the available training data and train your model\n",
    "on this subset. Now, compare the performance of corresponding models and highlight the best. Describe your findings."
   ]
  },
  {
   "cell_type": "markdown",
   "metadata": {
    "id": "W3Q4wEItRLoA"
   },
   "source": [
    "### Initial test with 140 sentiment dataset (without k-fold cross validation)\n",
    "\n",
    "\n",
    "\n"
   ]
  },
  {
   "cell_type": "code",
   "execution_count": 15,
   "metadata": {
    "id": "FFqL9pmbO-Bt"
   },
   "outputs": [],
   "source": [
    "inds = np.random.permutation(1500000) # randomize"
   ]
  },
  {
   "cell_type": "code",
   "execution_count": 16,
   "metadata": {
    "colab": {
     "base_uri": "https://localhost:8080/",
     "height": 131
    },
    "id": "YQ3KFPUjRgun",
    "outputId": "0ff18170-878d-4702-fbb3-6ff7dbad46e2"
   },
   "outputs": [
    {
     "name": "stdout",
     "output_type": "stream",
     "text": [
      "(100000,) (100000, 81577)\n",
      "instances (N) \t 100000 \n",
      " features (D) \t 81577 \n",
      " classes (C) \t 2\n"
     ]
    }
   ],
   "source": [
    "# reduce the dataset for the 140 sentiment dataset\n",
    "cropped_x=X_train_tf.tocsr()[inds[:100000]] #take 10000 instances\n",
    "cropped_y=Y_train[inds[:100000]]\n",
    "\n",
    "print(cropped_y.shape, cropped_x.shape)\n",
    "\n",
    "# print the feature shape and classes of dataset \n",
    "(N,D), C = cropped_x.shape , np.max(cropped_y)+1\n",
    "\n",
    "print(f'instances (N) \\t {N} \\n features (D) \\t {D} \\n classes (C) \\t {C}')"
   ]
  },
  {
   "cell_type": "markdown",
   "metadata": {
    "id": "kY1Hv6Ciqsaq"
   },
   "source": [
    "#### Naive Bayes implementation"
   ]
  },
  {
   "cell_type": "code",
   "execution_count": 17,
   "metadata": {
    "id": "GvAEQ-TrRvtK",
    "scrolled": true
   },
   "outputs": [
    {
     "name": "stdout",
     "output_type": "stream",
     "text": [
      "\n",
      "----------------- Fold 0 -----------------\n",
      "----------- Batch 0 -----------\n",
      "xt.shape: (500, 81577)\n",
      "log_prior.shape: (2, 1)\n",
      "self.sigma.shape: (2, 1, 81577)\n",
      "self.mu.shape (2, 1, 81577)\n",
      "xt.shape: (1, 500, 81577)\n",
      "log_posterior.shape: (2, 500)\n",
      "----------- Batch 1 -----------\n",
      "xt.shape: (500, 81577)\n",
      "log_prior.shape: (2, 1)\n",
      "self.sigma.shape: (2, 1, 81577)\n",
      "self.mu.shape (2, 1, 81577)\n",
      "xt.shape: (1, 500, 81577)\n",
      "log_posterior.shape: (2, 500)\n",
      "----------- Batch 2 -----------\n",
      "xt.shape: (500, 81577)\n",
      "log_prior.shape: (2, 1)\n",
      "self.sigma.shape: (2, 1, 81577)\n",
      "self.mu.shape (2, 1, 81577)\n",
      "xt.shape: (1, 500, 81577)\n",
      "log_posterior.shape: (2, 500)\n",
      "----------- Batch 3 -----------\n",
      "xt.shape: (500, 81577)\n",
      "log_prior.shape: (2, 1)\n",
      "self.sigma.shape: (2, 1, 81577)\n",
      "self.mu.shape (2, 1, 81577)\n",
      "xt.shape: (1, 500, 81577)\n",
      "log_posterior.shape: (2, 500)\n",
      "----------- Batch 4 -----------\n",
      "xt.shape: (500, 81577)\n",
      "log_prior.shape: (2, 1)\n",
      "self.sigma.shape: (2, 1, 81577)\n",
      "self.mu.shape (2, 1, 81577)\n",
      "xt.shape: (1, 500, 81577)\n",
      "log_posterior.shape: (2, 500)\n",
      "----------- Batch 5 -----------\n",
      "xt.shape: (500, 81577)\n",
      "log_prior.shape: (2, 1)\n",
      "self.sigma.shape: (2, 1, 81577)\n",
      "self.mu.shape (2, 1, 81577)\n",
      "xt.shape: (1, 500, 81577)\n",
      "log_posterior.shape: (2, 500)\n",
      "----------- Batch 6 -----------\n",
      "xt.shape: (500, 81577)\n",
      "log_prior.shape: (2, 1)\n",
      "self.sigma.shape: (2, 1, 81577)\n",
      "self.mu.shape (2, 1, 81577)\n",
      "xt.shape: (1, 500, 81577)\n",
      "log_posterior.shape: (2, 500)\n",
      "----------- Batch 7 -----------\n",
      "xt.shape: (500, 81577)\n",
      "log_prior.shape: (2, 1)\n",
      "self.sigma.shape: (2, 1, 81577)\n",
      "self.mu.shape (2, 1, 81577)\n",
      "xt.shape: (1, 500, 81577)\n",
      "log_posterior.shape: (2, 500)\n",
      "----------- Batch 8 -----------\n",
      "xt.shape: (500, 81577)\n",
      "log_prior.shape: (2, 1)\n",
      "self.sigma.shape: (2, 1, 81577)\n",
      "self.mu.shape (2, 1, 81577)\n",
      "xt.shape: (1, 500, 81577)\n",
      "log_posterior.shape: (2, 500)\n",
      "----------- Batch 9 -----------\n",
      "xt.shape: (500, 81577)\n",
      "log_prior.shape: (2, 1)\n",
      "self.sigma.shape: (2, 1, 81577)\n",
      "self.mu.shape (2, 1, 81577)\n",
      "xt.shape: (1, 500, 81577)\n",
      "log_posterior.shape: (2, 500)\n",
      "----------- Batch 10 -----------\n",
      "xt.shape: (500, 81577)\n",
      "log_prior.shape: (2, 1)\n",
      "self.sigma.shape: (2, 1, 81577)\n",
      "self.mu.shape (2, 1, 81577)\n",
      "xt.shape: (1, 500, 81577)\n",
      "log_posterior.shape: (2, 500)\n",
      "----------- Batch 11 -----------\n",
      "xt.shape: (500, 81577)\n",
      "log_prior.shape: (2, 1)\n",
      "self.sigma.shape: (2, 1, 81577)\n",
      "self.mu.shape (2, 1, 81577)\n",
      "xt.shape: (1, 500, 81577)\n",
      "log_posterior.shape: (2, 500)\n",
      "----------- Batch 12 -----------\n",
      "xt.shape: (500, 81577)\n",
      "log_prior.shape: (2, 1)\n",
      "self.sigma.shape: (2, 1, 81577)\n",
      "self.mu.shape (2, 1, 81577)\n",
      "xt.shape: (1, 500, 81577)\n",
      "log_posterior.shape: (2, 500)\n",
      "----------- Batch 13 -----------\n",
      "xt.shape: (500, 81577)\n",
      "log_prior.shape: (2, 1)\n",
      "self.sigma.shape: (2, 1, 81577)\n",
      "self.mu.shape (2, 1, 81577)\n",
      "xt.shape: (1, 500, 81577)\n",
      "log_posterior.shape: (2, 500)\n",
      "----------- Batch 14 -----------\n",
      "xt.shape: (500, 81577)\n",
      "log_prior.shape: (2, 1)\n",
      "self.sigma.shape: (2, 1, 81577)\n",
      "self.mu.shape (2, 1, 81577)\n",
      "xt.shape: (1, 500, 81577)\n",
      "log_posterior.shape: (2, 500)\n",
      "----------- Batch 15 -----------\n",
      "xt.shape: (500, 81577)\n",
      "log_prior.shape: (2, 1)\n",
      "self.sigma.shape: (2, 1, 81577)\n",
      "self.mu.shape (2, 1, 81577)\n",
      "xt.shape: (1, 500, 81577)\n",
      "log_posterior.shape: (2, 500)\n",
      "----------- Batch 16 -----------\n",
      "xt.shape: (500, 81577)\n",
      "log_prior.shape: (2, 1)\n",
      "self.sigma.shape: (2, 1, 81577)\n",
      "self.mu.shape (2, 1, 81577)\n",
      "xt.shape: (1, 500, 81577)\n",
      "log_posterior.shape: (2, 500)\n",
      "----------- Batch 17 -----------\n",
      "xt.shape: (500, 81577)\n",
      "log_prior.shape: (2, 1)\n",
      "self.sigma.shape: (2, 1, 81577)\n",
      "self.mu.shape (2, 1, 81577)\n",
      "xt.shape: (1, 500, 81577)\n",
      "log_posterior.shape: (2, 500)\n",
      "----------- Batch 18 -----------\n",
      "xt.shape: (500, 81577)\n",
      "log_prior.shape: (2, 1)\n",
      "self.sigma.shape: (2, 1, 81577)\n",
      "self.mu.shape (2, 1, 81577)\n",
      "xt.shape: (1, 500, 81577)\n",
      "log_posterior.shape: (2, 500)\n",
      "----------- Batch 19 -----------\n",
      "xt.shape: (500, 81577)\n",
      "log_prior.shape: (2, 1)\n",
      "self.sigma.shape: (2, 1, 81577)\n",
      "self.mu.shape (2, 1, 81577)\n",
      "xt.shape: (1, 500, 81577)\n",
      "log_posterior.shape: (2, 500)\n",
      "----------- Batch 20 -----------\n",
      "xt.shape: (500, 81577)\n",
      "log_prior.shape: (2, 1)\n",
      "self.sigma.shape: (2, 1, 81577)\n",
      "self.mu.shape (2, 1, 81577)\n",
      "xt.shape: (1, 500, 81577)\n",
      "log_posterior.shape: (2, 500)\n",
      "----------- Batch 21 -----------\n",
      "xt.shape: (500, 81577)\n",
      "log_prior.shape: (2, 1)\n",
      "self.sigma.shape: (2, 1, 81577)\n",
      "self.mu.shape (2, 1, 81577)\n",
      "xt.shape: (1, 500, 81577)\n",
      "log_posterior.shape: (2, 500)\n",
      "----------- Batch 22 -----------\n",
      "xt.shape: (500, 81577)\n",
      "log_prior.shape: (2, 1)\n",
      "self.sigma.shape: (2, 1, 81577)\n",
      "self.mu.shape (2, 1, 81577)\n",
      "xt.shape: (1, 500, 81577)\n",
      "log_posterior.shape: (2, 500)\n",
      "----------- Batch 23 -----------\n",
      "xt.shape: (500, 81577)\n",
      "log_prior.shape: (2, 1)\n",
      "self.sigma.shape: (2, 1, 81577)\n",
      "self.mu.shape (2, 1, 81577)\n",
      "xt.shape: (1, 500, 81577)\n",
      "log_posterior.shape: (2, 500)\n",
      "----------- Batch 24 -----------\n",
      "xt.shape: (500, 81577)\n",
      "log_prior.shape: (2, 1)\n",
      "self.sigma.shape: (2, 1, 81577)\n",
      "self.mu.shape (2, 1, 81577)\n",
      "xt.shape: (1, 500, 81577)\n",
      "log_posterior.shape: (2, 500)\n",
      "----------- Batch 25 -----------\n",
      "xt.shape: (500, 81577)\n",
      "log_prior.shape: (2, 1)\n",
      "self.sigma.shape: (2, 1, 81577)\n",
      "self.mu.shape (2, 1, 81577)\n",
      "xt.shape: (1, 500, 81577)\n",
      "log_posterior.shape: (2, 500)\n",
      "----------- Batch 26 -----------\n",
      "xt.shape: (500, 81577)\n",
      "log_prior.shape: (2, 1)\n",
      "self.sigma.shape: (2, 1, 81577)\n",
      "self.mu.shape (2, 1, 81577)\n",
      "xt.shape: (1, 500, 81577)\n",
      "log_posterior.shape: (2, 500)\n",
      "----------- Batch 27 -----------\n",
      "xt.shape: (500, 81577)\n",
      "log_prior.shape: (2, 1)\n",
      "self.sigma.shape: (2, 1, 81577)\n",
      "self.mu.shape (2, 1, 81577)\n",
      "xt.shape: (1, 500, 81577)\n",
      "log_posterior.shape: (2, 500)\n",
      "----------- Batch 28 -----------\n",
      "xt.shape: (500, 81577)\n",
      "log_prior.shape: (2, 1)\n",
      "self.sigma.shape: (2, 1, 81577)\n",
      "self.mu.shape (2, 1, 81577)\n",
      "xt.shape: (1, 500, 81577)\n",
      "log_posterior.shape: (2, 500)\n",
      "----------- Batch 29 -----------\n",
      "xt.shape: (500, 81577)\n",
      "log_prior.shape: (2, 1)\n",
      "self.sigma.shape: (2, 1, 81577)\n",
      "self.mu.shape (2, 1, 81577)\n",
      "xt.shape: (1, 500, 81577)\n",
      "log_posterior.shape: (2, 500)\n",
      "----------- Batch 30 -----------\n",
      "xt.shape: (500, 81577)\n",
      "log_prior.shape: (2, 1)\n",
      "self.sigma.shape: (2, 1, 81577)\n",
      "self.mu.shape (2, 1, 81577)\n",
      "xt.shape: (1, 500, 81577)\n",
      "log_posterior.shape: (2, 500)\n",
      "----------- Batch 31 -----------\n",
      "xt.shape: (500, 81577)\n",
      "log_prior.shape: (2, 1)\n",
      "self.sigma.shape: (2, 1, 81577)\n",
      "self.mu.shape (2, 1, 81577)\n",
      "xt.shape: (1, 500, 81577)\n",
      "log_posterior.shape: (2, 500)\n",
      "----------- Batch 32 -----------\n",
      "xt.shape: (500, 81577)\n",
      "log_prior.shape: (2, 1)\n",
      "self.sigma.shape: (2, 1, 81577)\n",
      "self.mu.shape (2, 1, 81577)\n",
      "xt.shape: (1, 500, 81577)\n",
      "log_posterior.shape: (2, 500)\n",
      "----------- Batch 33 -----------\n",
      "xt.shape: (500, 81577)\n",
      "log_prior.shape: (2, 1)\n",
      "self.sigma.shape: (2, 1, 81577)\n",
      "self.mu.shape (2, 1, 81577)\n",
      "xt.shape: (1, 500, 81577)\n",
      "log_posterior.shape: (2, 500)\n",
      "----------- Batch 34 -----------\n",
      "xt.shape: (500, 81577)\n",
      "log_prior.shape: (2, 1)\n",
      "self.sigma.shape: (2, 1, 81577)\n",
      "self.mu.shape (2, 1, 81577)\n",
      "xt.shape: (1, 500, 81577)\n",
      "log_posterior.shape: (2, 500)\n",
      "----------- Batch 35 -----------\n",
      "xt.shape: (500, 81577)\n",
      "log_prior.shape: (2, 1)\n",
      "self.sigma.shape: (2, 1, 81577)\n",
      "self.mu.shape (2, 1, 81577)\n",
      "xt.shape: (1, 500, 81577)\n",
      "log_posterior.shape: (2, 500)\n",
      "----------- Batch 36 -----------\n",
      "xt.shape: (500, 81577)\n",
      "log_prior.shape: (2, 1)\n",
      "self.sigma.shape: (2, 1, 81577)\n",
      "self.mu.shape (2, 1, 81577)\n",
      "xt.shape: (1, 500, 81577)\n",
      "log_posterior.shape: (2, 500)\n",
      "----------- Batch 37 -----------\n",
      "xt.shape: (500, 81577)\n",
      "log_prior.shape: (2, 1)\n",
      "self.sigma.shape: (2, 1, 81577)\n",
      "self.mu.shape (2, 1, 81577)\n",
      "xt.shape: (1, 500, 81577)\n",
      "log_posterior.shape: (2, 500)\n",
      "----------- Batch 38 -----------\n",
      "xt.shape: (500, 81577)\n",
      "log_prior.shape: (2, 1)\n",
      "self.sigma.shape: (2, 1, 81577)\n",
      "self.mu.shape (2, 1, 81577)\n",
      "xt.shape: (1, 500, 81577)\n",
      "log_posterior.shape: (2, 500)\n",
      "----------- Batch 39 -----------\n",
      "xt.shape: (500, 81577)\n",
      "log_prior.shape: (2, 1)\n",
      "self.sigma.shape: (2, 1, 81577)\n",
      "self.mu.shape (2, 1, 81577)\n",
      "xt.shape: (1, 500, 81577)\n",
      "log_posterior.shape: (2, 500)\n",
      "\n",
      "----------------- Fold 1 -----------------\n",
      "----------- Batch 0 -----------\n",
      "xt.shape: (500, 81577)\n",
      "log_prior.shape: (2, 1)\n",
      "self.sigma.shape: (2, 1, 81577)\n",
      "self.mu.shape (2, 1, 81577)\n",
      "xt.shape: (1, 500, 81577)\n",
      "log_posterior.shape: (2, 500)\n",
      "----------- Batch 1 -----------\n",
      "xt.shape: (500, 81577)\n",
      "log_prior.shape: (2, 1)\n",
      "self.sigma.shape: (2, 1, 81577)\n",
      "self.mu.shape (2, 1, 81577)\n",
      "xt.shape: (1, 500, 81577)\n"
     ]
    },
    {
     "name": "stdout",
     "output_type": "stream",
     "text": [
      "log_posterior.shape: (2, 500)\n",
      "----------- Batch 2 -----------\n",
      "xt.shape: (500, 81577)\n",
      "log_prior.shape: (2, 1)\n",
      "self.sigma.shape: (2, 1, 81577)\n",
      "self.mu.shape (2, 1, 81577)\n",
      "xt.shape: (1, 500, 81577)\n",
      "log_posterior.shape: (2, 500)\n",
      "----------- Batch 3 -----------\n",
      "xt.shape: (500, 81577)\n",
      "log_prior.shape: (2, 1)\n",
      "self.sigma.shape: (2, 1, 81577)\n",
      "self.mu.shape (2, 1, 81577)\n",
      "xt.shape: (1, 500, 81577)\n",
      "log_posterior.shape: (2, 500)\n",
      "----------- Batch 4 -----------\n",
      "xt.shape: (500, 81577)\n",
      "log_prior.shape: (2, 1)\n",
      "self.sigma.shape: (2, 1, 81577)\n",
      "self.mu.shape (2, 1, 81577)\n",
      "xt.shape: (1, 500, 81577)\n",
      "log_posterior.shape: (2, 500)\n",
      "----------- Batch 5 -----------\n",
      "xt.shape: (500, 81577)\n",
      "log_prior.shape: (2, 1)\n",
      "self.sigma.shape: (2, 1, 81577)\n",
      "self.mu.shape (2, 1, 81577)\n",
      "xt.shape: (1, 500, 81577)\n",
      "log_posterior.shape: (2, 500)\n",
      "----------- Batch 6 -----------\n",
      "xt.shape: (500, 81577)\n",
      "log_prior.shape: (2, 1)\n",
      "self.sigma.shape: (2, 1, 81577)\n",
      "self.mu.shape (2, 1, 81577)\n",
      "xt.shape: (1, 500, 81577)\n",
      "log_posterior.shape: (2, 500)\n",
      "----------- Batch 7 -----------\n",
      "xt.shape: (500, 81577)\n",
      "log_prior.shape: (2, 1)\n",
      "self.sigma.shape: (2, 1, 81577)\n",
      "self.mu.shape (2, 1, 81577)\n",
      "xt.shape: (1, 500, 81577)\n",
      "log_posterior.shape: (2, 500)\n",
      "----------- Batch 8 -----------\n",
      "xt.shape: (500, 81577)\n",
      "log_prior.shape: (2, 1)\n",
      "self.sigma.shape: (2, 1, 81577)\n",
      "self.mu.shape (2, 1, 81577)\n",
      "xt.shape: (1, 500, 81577)\n",
      "log_posterior.shape: (2, 500)\n",
      "----------- Batch 9 -----------\n",
      "xt.shape: (500, 81577)\n",
      "log_prior.shape: (2, 1)\n",
      "self.sigma.shape: (2, 1, 81577)\n",
      "self.mu.shape (2, 1, 81577)\n",
      "xt.shape: (1, 500, 81577)\n",
      "log_posterior.shape: (2, 500)\n",
      "----------- Batch 10 -----------\n",
      "xt.shape: (500, 81577)\n",
      "log_prior.shape: (2, 1)\n",
      "self.sigma.shape: (2, 1, 81577)\n",
      "self.mu.shape (2, 1, 81577)\n",
      "xt.shape: (1, 500, 81577)\n",
      "log_posterior.shape: (2, 500)\n",
      "----------- Batch 11 -----------\n",
      "xt.shape: (500, 81577)\n",
      "log_prior.shape: (2, 1)\n",
      "self.sigma.shape: (2, 1, 81577)\n",
      "self.mu.shape (2, 1, 81577)\n",
      "xt.shape: (1, 500, 81577)\n",
      "log_posterior.shape: (2, 500)\n",
      "----------- Batch 12 -----------\n",
      "xt.shape: (500, 81577)\n",
      "log_prior.shape: (2, 1)\n",
      "self.sigma.shape: (2, 1, 81577)\n",
      "self.mu.shape (2, 1, 81577)\n",
      "xt.shape: (1, 500, 81577)\n",
      "log_posterior.shape: (2, 500)\n",
      "----------- Batch 13 -----------\n",
      "xt.shape: (500, 81577)\n",
      "log_prior.shape: (2, 1)\n",
      "self.sigma.shape: (2, 1, 81577)\n",
      "self.mu.shape (2, 1, 81577)\n",
      "xt.shape: (1, 500, 81577)\n",
      "log_posterior.shape: (2, 500)\n",
      "----------- Batch 14 -----------\n",
      "xt.shape: (500, 81577)\n",
      "log_prior.shape: (2, 1)\n",
      "self.sigma.shape: (2, 1, 81577)\n",
      "self.mu.shape (2, 1, 81577)\n",
      "xt.shape: (1, 500, 81577)\n",
      "log_posterior.shape: (2, 500)\n",
      "----------- Batch 15 -----------\n",
      "xt.shape: (500, 81577)\n",
      "log_prior.shape: (2, 1)\n",
      "self.sigma.shape: (2, 1, 81577)\n",
      "self.mu.shape (2, 1, 81577)\n",
      "xt.shape: (1, 500, 81577)\n",
      "log_posterior.shape: (2, 500)\n",
      "----------- Batch 16 -----------\n",
      "xt.shape: (500, 81577)\n",
      "log_prior.shape: (2, 1)\n",
      "self.sigma.shape: (2, 1, 81577)\n",
      "self.mu.shape (2, 1, 81577)\n",
      "xt.shape: (1, 500, 81577)\n",
      "log_posterior.shape: (2, 500)\n",
      "----------- Batch 17 -----------\n",
      "xt.shape: (500, 81577)\n",
      "log_prior.shape: (2, 1)\n",
      "self.sigma.shape: (2, 1, 81577)\n",
      "self.mu.shape (2, 1, 81577)\n",
      "xt.shape: (1, 500, 81577)\n",
      "log_posterior.shape: (2, 500)\n",
      "----------- Batch 18 -----------\n",
      "xt.shape: (500, 81577)\n",
      "log_prior.shape: (2, 1)\n",
      "self.sigma.shape: (2, 1, 81577)\n",
      "self.mu.shape (2, 1, 81577)\n",
      "xt.shape: (1, 500, 81577)\n",
      "log_posterior.shape: (2, 500)\n",
      "----------- Batch 19 -----------\n",
      "xt.shape: (500, 81577)\n",
      "log_prior.shape: (2, 1)\n",
      "self.sigma.shape: (2, 1, 81577)\n",
      "self.mu.shape (2, 1, 81577)\n",
      "xt.shape: (1, 500, 81577)\n",
      "log_posterior.shape: (2, 500)\n",
      "----------- Batch 20 -----------\n",
      "xt.shape: (500, 81577)\n",
      "log_prior.shape: (2, 1)\n",
      "self.sigma.shape: (2, 1, 81577)\n",
      "self.mu.shape (2, 1, 81577)\n",
      "xt.shape: (1, 500, 81577)\n",
      "log_posterior.shape: (2, 500)\n",
      "----------- Batch 21 -----------\n",
      "xt.shape: (500, 81577)\n",
      "log_prior.shape: (2, 1)\n",
      "self.sigma.shape: (2, 1, 81577)\n",
      "self.mu.shape (2, 1, 81577)\n",
      "xt.shape: (1, 500, 81577)\n",
      "log_posterior.shape: (2, 500)\n",
      "----------- Batch 22 -----------\n",
      "xt.shape: (500, 81577)\n",
      "log_prior.shape: (2, 1)\n",
      "self.sigma.shape: (2, 1, 81577)\n",
      "self.mu.shape (2, 1, 81577)\n",
      "xt.shape: (1, 500, 81577)\n",
      "log_posterior.shape: (2, 500)\n",
      "----------- Batch 23 -----------\n",
      "xt.shape: (500, 81577)\n",
      "log_prior.shape: (2, 1)\n",
      "self.sigma.shape: (2, 1, 81577)\n",
      "self.mu.shape (2, 1, 81577)\n",
      "xt.shape: (1, 500, 81577)\n",
      "log_posterior.shape: (2, 500)\n",
      "----------- Batch 24 -----------\n",
      "xt.shape: (500, 81577)\n",
      "log_prior.shape: (2, 1)\n",
      "self.sigma.shape: (2, 1, 81577)\n",
      "self.mu.shape (2, 1, 81577)\n",
      "xt.shape: (1, 500, 81577)\n",
      "log_posterior.shape: (2, 500)\n",
      "----------- Batch 25 -----------\n",
      "xt.shape: (500, 81577)\n",
      "log_prior.shape: (2, 1)\n",
      "self.sigma.shape: (2, 1, 81577)\n",
      "self.mu.shape (2, 1, 81577)\n",
      "xt.shape: (1, 500, 81577)\n",
      "log_posterior.shape: (2, 500)\n",
      "----------- Batch 26 -----------\n",
      "xt.shape: (500, 81577)\n",
      "log_prior.shape: (2, 1)\n",
      "self.sigma.shape: (2, 1, 81577)\n",
      "self.mu.shape (2, 1, 81577)\n",
      "xt.shape: (1, 500, 81577)\n",
      "log_posterior.shape: (2, 500)\n",
      "----------- Batch 27 -----------\n",
      "xt.shape: (500, 81577)\n",
      "log_prior.shape: (2, 1)\n",
      "self.sigma.shape: (2, 1, 81577)\n",
      "self.mu.shape (2, 1, 81577)\n",
      "xt.shape: (1, 500, 81577)\n",
      "log_posterior.shape: (2, 500)\n",
      "----------- Batch 28 -----------\n",
      "xt.shape: (500, 81577)\n",
      "log_prior.shape: (2, 1)\n",
      "self.sigma.shape: (2, 1, 81577)\n",
      "self.mu.shape (2, 1, 81577)\n",
      "xt.shape: (1, 500, 81577)\n",
      "log_posterior.shape: (2, 500)\n",
      "----------- Batch 29 -----------\n",
      "xt.shape: (500, 81577)\n",
      "log_prior.shape: (2, 1)\n",
      "self.sigma.shape: (2, 1, 81577)\n",
      "self.mu.shape (2, 1, 81577)\n",
      "xt.shape: (1, 500, 81577)\n",
      "log_posterior.shape: (2, 500)\n",
      "----------- Batch 30 -----------\n",
      "xt.shape: (500, 81577)\n",
      "log_prior.shape: (2, 1)\n",
      "self.sigma.shape: (2, 1, 81577)\n",
      "self.mu.shape (2, 1, 81577)\n",
      "xt.shape: (1, 500, 81577)\n",
      "log_posterior.shape: (2, 500)\n",
      "----------- Batch 31 -----------\n",
      "xt.shape: (500, 81577)\n",
      "log_prior.shape: (2, 1)\n",
      "self.sigma.shape: (2, 1, 81577)\n",
      "self.mu.shape (2, 1, 81577)\n",
      "xt.shape: (1, 500, 81577)\n",
      "log_posterior.shape: (2, 500)\n",
      "----------- Batch 32 -----------\n",
      "xt.shape: (500, 81577)\n",
      "log_prior.shape: (2, 1)\n",
      "self.sigma.shape: (2, 1, 81577)\n",
      "self.mu.shape (2, 1, 81577)\n",
      "xt.shape: (1, 500, 81577)\n",
      "log_posterior.shape: (2, 500)\n",
      "----------- Batch 33 -----------\n",
      "xt.shape: (500, 81577)\n",
      "log_prior.shape: (2, 1)\n",
      "self.sigma.shape: (2, 1, 81577)\n",
      "self.mu.shape (2, 1, 81577)\n",
      "xt.shape: (1, 500, 81577)\n",
      "log_posterior.shape: (2, 500)\n",
      "----------- Batch 34 -----------\n",
      "xt.shape: (500, 81577)\n",
      "log_prior.shape: (2, 1)\n",
      "self.sigma.shape: (2, 1, 81577)\n",
      "self.mu.shape (2, 1, 81577)\n",
      "xt.shape: (1, 500, 81577)\n",
      "log_posterior.shape: (2, 500)\n",
      "----------- Batch 35 -----------\n",
      "xt.shape: (500, 81577)\n",
      "log_prior.shape: (2, 1)\n",
      "self.sigma.shape: (2, 1, 81577)\n",
      "self.mu.shape (2, 1, 81577)\n",
      "xt.shape: (1, 500, 81577)\n",
      "log_posterior.shape: (2, 500)\n",
      "----------- Batch 36 -----------\n",
      "xt.shape: (500, 81577)\n",
      "log_prior.shape: (2, 1)\n",
      "self.sigma.shape: (2, 1, 81577)\n",
      "self.mu.shape (2, 1, 81577)\n",
      "xt.shape: (1, 500, 81577)\n",
      "log_posterior.shape: (2, 500)\n",
      "----------- Batch 37 -----------\n",
      "xt.shape: (500, 81577)\n",
      "log_prior.shape: (2, 1)\n",
      "self.sigma.shape: (2, 1, 81577)\n",
      "self.mu.shape (2, 1, 81577)\n",
      "xt.shape: (1, 500, 81577)\n",
      "log_posterior.shape: (2, 500)\n",
      "----------- Batch 38 -----------\n",
      "xt.shape: (500, 81577)\n",
      "log_prior.shape: (2, 1)\n",
      "self.sigma.shape: (2, 1, 81577)\n",
      "self.mu.shape (2, 1, 81577)\n",
      "xt.shape: (1, 500, 81577)\n",
      "log_posterior.shape: (2, 500)\n",
      "----------- Batch 39 -----------\n",
      "xt.shape: (500, 81577)\n",
      "log_prior.shape: (2, 1)\n",
      "self.sigma.shape: (2, 1, 81577)\n",
      "self.mu.shape (2, 1, 81577)\n",
      "xt.shape: (1, 500, 81577)\n",
      "log_posterior.shape: (2, 500)\n",
      "\n",
      "----------------- Fold 2 -----------------\n",
      "----------- Batch 0 -----------\n",
      "xt.shape: (500, 81577)\n",
      "log_prior.shape: (2, 1)\n",
      "self.sigma.shape: (2, 1, 81577)\n",
      "self.mu.shape (2, 1, 81577)\n",
      "xt.shape: (1, 500, 81577)\n",
      "log_posterior.shape: (2, 500)\n",
      "----------- Batch 1 -----------\n",
      "xt.shape: (500, 81577)\n",
      "log_prior.shape: (2, 1)\n",
      "self.sigma.shape: (2, 1, 81577)\n",
      "self.mu.shape (2, 1, 81577)\n",
      "xt.shape: (1, 500, 81577)\n",
      "log_posterior.shape: (2, 500)\n",
      "----------- Batch 2 -----------\n",
      "xt.shape: (500, 81577)\n",
      "log_prior.shape: (2, 1)\n",
      "self.sigma.shape: (2, 1, 81577)\n",
      "self.mu.shape (2, 1, 81577)\n",
      "xt.shape: (1, 500, 81577)\n",
      "log_posterior.shape: (2, 500)\n",
      "----------- Batch 3 -----------\n",
      "xt.shape: (500, 81577)\n",
      "log_prior.shape: (2, 1)\n",
      "self.sigma.shape: (2, 1, 81577)\n",
      "self.mu.shape (2, 1, 81577)\n",
      "xt.shape: (1, 500, 81577)\n"
     ]
    },
    {
     "name": "stdout",
     "output_type": "stream",
     "text": [
      "log_posterior.shape: (2, 500)\n",
      "----------- Batch 4 -----------\n",
      "xt.shape: (500, 81577)\n",
      "log_prior.shape: (2, 1)\n",
      "self.sigma.shape: (2, 1, 81577)\n",
      "self.mu.shape (2, 1, 81577)\n",
      "xt.shape: (1, 500, 81577)\n",
      "log_posterior.shape: (2, 500)\n",
      "----------- Batch 5 -----------\n",
      "xt.shape: (500, 81577)\n",
      "log_prior.shape: (2, 1)\n",
      "self.sigma.shape: (2, 1, 81577)\n",
      "self.mu.shape (2, 1, 81577)\n",
      "xt.shape: (1, 500, 81577)\n",
      "log_posterior.shape: (2, 500)\n",
      "----------- Batch 6 -----------\n",
      "xt.shape: (500, 81577)\n",
      "log_prior.shape: (2, 1)\n",
      "self.sigma.shape: (2, 1, 81577)\n",
      "self.mu.shape (2, 1, 81577)\n",
      "xt.shape: (1, 500, 81577)\n",
      "log_posterior.shape: (2, 500)\n",
      "----------- Batch 7 -----------\n",
      "xt.shape: (500, 81577)\n",
      "log_prior.shape: (2, 1)\n",
      "self.sigma.shape: (2, 1, 81577)\n",
      "self.mu.shape (2, 1, 81577)\n",
      "xt.shape: (1, 500, 81577)\n",
      "log_posterior.shape: (2, 500)\n",
      "----------- Batch 8 -----------\n",
      "xt.shape: (500, 81577)\n",
      "log_prior.shape: (2, 1)\n",
      "self.sigma.shape: (2, 1, 81577)\n",
      "self.mu.shape (2, 1, 81577)\n",
      "xt.shape: (1, 500, 81577)\n",
      "log_posterior.shape: (2, 500)\n",
      "----------- Batch 9 -----------\n",
      "xt.shape: (500, 81577)\n",
      "log_prior.shape: (2, 1)\n",
      "self.sigma.shape: (2, 1, 81577)\n",
      "self.mu.shape (2, 1, 81577)\n",
      "xt.shape: (1, 500, 81577)\n",
      "log_posterior.shape: (2, 500)\n",
      "----------- Batch 10 -----------\n",
      "xt.shape: (500, 81577)\n",
      "log_prior.shape: (2, 1)\n",
      "self.sigma.shape: (2, 1, 81577)\n",
      "self.mu.shape (2, 1, 81577)\n",
      "xt.shape: (1, 500, 81577)\n",
      "log_posterior.shape: (2, 500)\n",
      "----------- Batch 11 -----------\n",
      "xt.shape: (500, 81577)\n",
      "log_prior.shape: (2, 1)\n",
      "self.sigma.shape: (2, 1, 81577)\n",
      "self.mu.shape (2, 1, 81577)\n",
      "xt.shape: (1, 500, 81577)\n",
      "log_posterior.shape: (2, 500)\n",
      "----------- Batch 12 -----------\n",
      "xt.shape: (500, 81577)\n",
      "log_prior.shape: (2, 1)\n",
      "self.sigma.shape: (2, 1, 81577)\n",
      "self.mu.shape (2, 1, 81577)\n",
      "xt.shape: (1, 500, 81577)\n",
      "log_posterior.shape: (2, 500)\n",
      "----------- Batch 13 -----------\n",
      "xt.shape: (500, 81577)\n",
      "log_prior.shape: (2, 1)\n",
      "self.sigma.shape: (2, 1, 81577)\n",
      "self.mu.shape (2, 1, 81577)\n",
      "xt.shape: (1, 500, 81577)\n",
      "log_posterior.shape: (2, 500)\n",
      "----------- Batch 14 -----------\n",
      "xt.shape: (500, 81577)\n",
      "log_prior.shape: (2, 1)\n",
      "self.sigma.shape: (2, 1, 81577)\n",
      "self.mu.shape (2, 1, 81577)\n",
      "xt.shape: (1, 500, 81577)\n",
      "log_posterior.shape: (2, 500)\n",
      "----------- Batch 15 -----------\n",
      "xt.shape: (500, 81577)\n",
      "log_prior.shape: (2, 1)\n",
      "self.sigma.shape: (2, 1, 81577)\n",
      "self.mu.shape (2, 1, 81577)\n",
      "xt.shape: (1, 500, 81577)\n",
      "log_posterior.shape: (2, 500)\n",
      "----------- Batch 16 -----------\n",
      "xt.shape: (500, 81577)\n",
      "log_prior.shape: (2, 1)\n",
      "self.sigma.shape: (2, 1, 81577)\n",
      "self.mu.shape (2, 1, 81577)\n",
      "xt.shape: (1, 500, 81577)\n",
      "log_posterior.shape: (2, 500)\n",
      "----------- Batch 17 -----------\n",
      "xt.shape: (500, 81577)\n",
      "log_prior.shape: (2, 1)\n",
      "self.sigma.shape: (2, 1, 81577)\n",
      "self.mu.shape (2, 1, 81577)\n",
      "xt.shape: (1, 500, 81577)\n",
      "log_posterior.shape: (2, 500)\n",
      "----------- Batch 18 -----------\n",
      "xt.shape: (500, 81577)\n",
      "log_prior.shape: (2, 1)\n",
      "self.sigma.shape: (2, 1, 81577)\n",
      "self.mu.shape (2, 1, 81577)\n",
      "xt.shape: (1, 500, 81577)\n",
      "log_posterior.shape: (2, 500)\n",
      "----------- Batch 19 -----------\n",
      "xt.shape: (500, 81577)\n",
      "log_prior.shape: (2, 1)\n",
      "self.sigma.shape: (2, 1, 81577)\n",
      "self.mu.shape (2, 1, 81577)\n",
      "xt.shape: (1, 500, 81577)\n",
      "log_posterior.shape: (2, 500)\n",
      "----------- Batch 20 -----------\n",
      "xt.shape: (500, 81577)\n",
      "log_prior.shape: (2, 1)\n",
      "self.sigma.shape: (2, 1, 81577)\n",
      "self.mu.shape (2, 1, 81577)\n",
      "xt.shape: (1, 500, 81577)\n",
      "log_posterior.shape: (2, 500)\n",
      "----------- Batch 21 -----------\n",
      "xt.shape: (500, 81577)\n",
      "log_prior.shape: (2, 1)\n",
      "self.sigma.shape: (2, 1, 81577)\n",
      "self.mu.shape (2, 1, 81577)\n",
      "xt.shape: (1, 500, 81577)\n",
      "log_posterior.shape: (2, 500)\n",
      "----------- Batch 22 -----------\n",
      "xt.shape: (500, 81577)\n",
      "log_prior.shape: (2, 1)\n",
      "self.sigma.shape: (2, 1, 81577)\n",
      "self.mu.shape (2, 1, 81577)\n",
      "xt.shape: (1, 500, 81577)\n",
      "log_posterior.shape: (2, 500)\n",
      "----------- Batch 23 -----------\n",
      "xt.shape: (500, 81577)\n",
      "log_prior.shape: (2, 1)\n",
      "self.sigma.shape: (2, 1, 81577)\n",
      "self.mu.shape (2, 1, 81577)\n",
      "xt.shape: (1, 500, 81577)\n",
      "log_posterior.shape: (2, 500)\n",
      "----------- Batch 24 -----------\n",
      "xt.shape: (500, 81577)\n",
      "log_prior.shape: (2, 1)\n",
      "self.sigma.shape: (2, 1, 81577)\n",
      "self.mu.shape (2, 1, 81577)\n",
      "xt.shape: (1, 500, 81577)\n",
      "log_posterior.shape: (2, 500)\n",
      "----------- Batch 25 -----------\n",
      "xt.shape: (500, 81577)\n",
      "log_prior.shape: (2, 1)\n",
      "self.sigma.shape: (2, 1, 81577)\n",
      "self.mu.shape (2, 1, 81577)\n",
      "xt.shape: (1, 500, 81577)\n",
      "log_posterior.shape: (2, 500)\n",
      "----------- Batch 26 -----------\n",
      "xt.shape: (500, 81577)\n",
      "log_prior.shape: (2, 1)\n",
      "self.sigma.shape: (2, 1, 81577)\n",
      "self.mu.shape (2, 1, 81577)\n",
      "xt.shape: (1, 500, 81577)\n",
      "log_posterior.shape: (2, 500)\n",
      "----------- Batch 27 -----------\n",
      "xt.shape: (500, 81577)\n",
      "log_prior.shape: (2, 1)\n",
      "self.sigma.shape: (2, 1, 81577)\n",
      "self.mu.shape (2, 1, 81577)\n",
      "xt.shape: (1, 500, 81577)\n",
      "log_posterior.shape: (2, 500)\n",
      "----------- Batch 28 -----------\n",
      "xt.shape: (500, 81577)\n",
      "log_prior.shape: (2, 1)\n",
      "self.sigma.shape: (2, 1, 81577)\n",
      "self.mu.shape (2, 1, 81577)\n",
      "xt.shape: (1, 500, 81577)\n",
      "log_posterior.shape: (2, 500)\n",
      "----------- Batch 29 -----------\n",
      "xt.shape: (500, 81577)\n",
      "log_prior.shape: (2, 1)\n",
      "self.sigma.shape: (2, 1, 81577)\n",
      "self.mu.shape (2, 1, 81577)\n",
      "xt.shape: (1, 500, 81577)\n",
      "log_posterior.shape: (2, 500)\n",
      "----------- Batch 30 -----------\n",
      "xt.shape: (500, 81577)\n",
      "log_prior.shape: (2, 1)\n",
      "self.sigma.shape: (2, 1, 81577)\n",
      "self.mu.shape (2, 1, 81577)\n",
      "xt.shape: (1, 500, 81577)\n",
      "log_posterior.shape: (2, 500)\n",
      "----------- Batch 31 -----------\n",
      "xt.shape: (500, 81577)\n",
      "log_prior.shape: (2, 1)\n",
      "self.sigma.shape: (2, 1, 81577)\n",
      "self.mu.shape (2, 1, 81577)\n",
      "xt.shape: (1, 500, 81577)\n",
      "log_posterior.shape: (2, 500)\n",
      "----------- Batch 32 -----------\n",
      "xt.shape: (500, 81577)\n",
      "log_prior.shape: (2, 1)\n",
      "self.sigma.shape: (2, 1, 81577)\n",
      "self.mu.shape (2, 1, 81577)\n",
      "xt.shape: (1, 500, 81577)\n",
      "log_posterior.shape: (2, 500)\n",
      "----------- Batch 33 -----------\n",
      "xt.shape: (500, 81577)\n",
      "log_prior.shape: (2, 1)\n",
      "self.sigma.shape: (2, 1, 81577)\n",
      "self.mu.shape (2, 1, 81577)\n",
      "xt.shape: (1, 500, 81577)\n",
      "log_posterior.shape: (2, 500)\n",
      "----------- Batch 34 -----------\n",
      "xt.shape: (500, 81577)\n",
      "log_prior.shape: (2, 1)\n",
      "self.sigma.shape: (2, 1, 81577)\n",
      "self.mu.shape (2, 1, 81577)\n",
      "xt.shape: (1, 500, 81577)\n",
      "log_posterior.shape: (2, 500)\n",
      "----------- Batch 35 -----------\n",
      "xt.shape: (500, 81577)\n",
      "log_prior.shape: (2, 1)\n",
      "self.sigma.shape: (2, 1, 81577)\n",
      "self.mu.shape (2, 1, 81577)\n",
      "xt.shape: (1, 500, 81577)\n",
      "log_posterior.shape: (2, 500)\n",
      "----------- Batch 36 -----------\n",
      "xt.shape: (500, 81577)\n",
      "log_prior.shape: (2, 1)\n",
      "self.sigma.shape: (2, 1, 81577)\n",
      "self.mu.shape (2, 1, 81577)\n",
      "xt.shape: (1, 500, 81577)\n",
      "log_posterior.shape: (2, 500)\n",
      "----------- Batch 37 -----------\n",
      "xt.shape: (500, 81577)\n",
      "log_prior.shape: (2, 1)\n",
      "self.sigma.shape: (2, 1, 81577)\n",
      "self.mu.shape (2, 1, 81577)\n",
      "xt.shape: (1, 500, 81577)\n",
      "log_posterior.shape: (2, 500)\n",
      "----------- Batch 38 -----------\n",
      "xt.shape: (500, 81577)\n",
      "log_prior.shape: (2, 1)\n",
      "self.sigma.shape: (2, 1, 81577)\n",
      "self.mu.shape (2, 1, 81577)\n",
      "xt.shape: (1, 500, 81577)\n",
      "log_posterior.shape: (2, 500)\n",
      "----------- Batch 39 -----------\n",
      "xt.shape: (500, 81577)\n",
      "log_prior.shape: (2, 1)\n",
      "self.sigma.shape: (2, 1, 81577)\n",
      "self.mu.shape (2, 1, 81577)\n",
      "xt.shape: (1, 500, 81577)\n",
      "log_posterior.shape: (2, 500)\n",
      "\n",
      "----------------- Fold 3 -----------------\n",
      "----------- Batch 0 -----------\n",
      "xt.shape: (500, 81577)\n",
      "log_prior.shape: (2, 1)\n",
      "self.sigma.shape: (2, 1, 81577)\n",
      "self.mu.shape (2, 1, 81577)\n",
      "xt.shape: (1, 500, 81577)\n",
      "log_posterior.shape: (2, 500)\n",
      "----------- Batch 1 -----------\n",
      "xt.shape: (500, 81577)\n",
      "log_prior.shape: (2, 1)\n",
      "self.sigma.shape: (2, 1, 81577)\n",
      "self.mu.shape (2, 1, 81577)\n",
      "xt.shape: (1, 500, 81577)\n",
      "log_posterior.shape: (2, 500)\n",
      "----------- Batch 2 -----------\n",
      "xt.shape: (500, 81577)\n",
      "log_prior.shape: (2, 1)\n",
      "self.sigma.shape: (2, 1, 81577)\n",
      "self.mu.shape (2, 1, 81577)\n",
      "xt.shape: (1, 500, 81577)\n",
      "log_posterior.shape: (2, 500)\n",
      "----------- Batch 3 -----------\n",
      "xt.shape: (500, 81577)\n",
      "log_prior.shape: (2, 1)\n",
      "self.sigma.shape: (2, 1, 81577)\n",
      "self.mu.shape (2, 1, 81577)\n",
      "xt.shape: (1, 500, 81577)\n",
      "log_posterior.shape: (2, 500)\n",
      "----------- Batch 4 -----------\n",
      "xt.shape: (500, 81577)\n",
      "log_prior.shape: (2, 1)\n",
      "self.sigma.shape: (2, 1, 81577)\n",
      "self.mu.shape (2, 1, 81577)\n",
      "xt.shape: (1, 500, 81577)\n",
      "log_posterior.shape: (2, 500)\n",
      "----------- Batch 5 -----------\n",
      "xt.shape: (500, 81577)\n",
      "log_prior.shape: (2, 1)\n",
      "self.sigma.shape: (2, 1, 81577)\n",
      "self.mu.shape (2, 1, 81577)\n",
      "xt.shape: (1, 500, 81577)\n"
     ]
    },
    {
     "name": "stdout",
     "output_type": "stream",
     "text": [
      "log_posterior.shape: (2, 500)\n",
      "----------- Batch 6 -----------\n",
      "xt.shape: (500, 81577)\n",
      "log_prior.shape: (2, 1)\n",
      "self.sigma.shape: (2, 1, 81577)\n",
      "self.mu.shape (2, 1, 81577)\n",
      "xt.shape: (1, 500, 81577)\n",
      "log_posterior.shape: (2, 500)\n",
      "----------- Batch 7 -----------\n",
      "xt.shape: (500, 81577)\n",
      "log_prior.shape: (2, 1)\n",
      "self.sigma.shape: (2, 1, 81577)\n",
      "self.mu.shape (2, 1, 81577)\n",
      "xt.shape: (1, 500, 81577)\n",
      "log_posterior.shape: (2, 500)\n",
      "----------- Batch 8 -----------\n",
      "xt.shape: (500, 81577)\n",
      "log_prior.shape: (2, 1)\n",
      "self.sigma.shape: (2, 1, 81577)\n",
      "self.mu.shape (2, 1, 81577)\n",
      "xt.shape: (1, 500, 81577)\n",
      "log_posterior.shape: (2, 500)\n",
      "----------- Batch 9 -----------\n",
      "xt.shape: (500, 81577)\n",
      "log_prior.shape: (2, 1)\n",
      "self.sigma.shape: (2, 1, 81577)\n",
      "self.mu.shape (2, 1, 81577)\n",
      "xt.shape: (1, 500, 81577)\n",
      "log_posterior.shape: (2, 500)\n",
      "----------- Batch 10 -----------\n",
      "xt.shape: (500, 81577)\n",
      "log_prior.shape: (2, 1)\n",
      "self.sigma.shape: (2, 1, 81577)\n",
      "self.mu.shape (2, 1, 81577)\n",
      "xt.shape: (1, 500, 81577)\n",
      "log_posterior.shape: (2, 500)\n",
      "----------- Batch 11 -----------\n",
      "xt.shape: (500, 81577)\n",
      "log_prior.shape: (2, 1)\n",
      "self.sigma.shape: (2, 1, 81577)\n",
      "self.mu.shape (2, 1, 81577)\n",
      "xt.shape: (1, 500, 81577)\n",
      "log_posterior.shape: (2, 500)\n",
      "----------- Batch 12 -----------\n",
      "xt.shape: (500, 81577)\n",
      "log_prior.shape: (2, 1)\n",
      "self.sigma.shape: (2, 1, 81577)\n",
      "self.mu.shape (2, 1, 81577)\n",
      "xt.shape: (1, 500, 81577)\n",
      "log_posterior.shape: (2, 500)\n",
      "----------- Batch 13 -----------\n",
      "xt.shape: (500, 81577)\n",
      "log_prior.shape: (2, 1)\n",
      "self.sigma.shape: (2, 1, 81577)\n",
      "self.mu.shape (2, 1, 81577)\n",
      "xt.shape: (1, 500, 81577)\n",
      "log_posterior.shape: (2, 500)\n",
      "----------- Batch 14 -----------\n",
      "xt.shape: (500, 81577)\n",
      "log_prior.shape: (2, 1)\n",
      "self.sigma.shape: (2, 1, 81577)\n",
      "self.mu.shape (2, 1, 81577)\n",
      "xt.shape: (1, 500, 81577)\n",
      "log_posterior.shape: (2, 500)\n",
      "----------- Batch 15 -----------\n",
      "xt.shape: (500, 81577)\n",
      "log_prior.shape: (2, 1)\n",
      "self.sigma.shape: (2, 1, 81577)\n",
      "self.mu.shape (2, 1, 81577)\n",
      "xt.shape: (1, 500, 81577)\n",
      "log_posterior.shape: (2, 500)\n",
      "----------- Batch 16 -----------\n",
      "xt.shape: (500, 81577)\n",
      "log_prior.shape: (2, 1)\n",
      "self.sigma.shape: (2, 1, 81577)\n",
      "self.mu.shape (2, 1, 81577)\n",
      "xt.shape: (1, 500, 81577)\n",
      "log_posterior.shape: (2, 500)\n",
      "----------- Batch 17 -----------\n",
      "xt.shape: (500, 81577)\n",
      "log_prior.shape: (2, 1)\n",
      "self.sigma.shape: (2, 1, 81577)\n",
      "self.mu.shape (2, 1, 81577)\n",
      "xt.shape: (1, 500, 81577)\n",
      "log_posterior.shape: (2, 500)\n",
      "----------- Batch 18 -----------\n",
      "xt.shape: (500, 81577)\n",
      "log_prior.shape: (2, 1)\n",
      "self.sigma.shape: (2, 1, 81577)\n",
      "self.mu.shape (2, 1, 81577)\n",
      "xt.shape: (1, 500, 81577)\n",
      "log_posterior.shape: (2, 500)\n",
      "----------- Batch 19 -----------\n",
      "xt.shape: (500, 81577)\n",
      "log_prior.shape: (2, 1)\n",
      "self.sigma.shape: (2, 1, 81577)\n",
      "self.mu.shape (2, 1, 81577)\n",
      "xt.shape: (1, 500, 81577)\n",
      "log_posterior.shape: (2, 500)\n",
      "----------- Batch 20 -----------\n",
      "xt.shape: (500, 81577)\n",
      "log_prior.shape: (2, 1)\n",
      "self.sigma.shape: (2, 1, 81577)\n",
      "self.mu.shape (2, 1, 81577)\n",
      "xt.shape: (1, 500, 81577)\n",
      "log_posterior.shape: (2, 500)\n",
      "----------- Batch 21 -----------\n",
      "xt.shape: (500, 81577)\n",
      "log_prior.shape: (2, 1)\n",
      "self.sigma.shape: (2, 1, 81577)\n",
      "self.mu.shape (2, 1, 81577)\n",
      "xt.shape: (1, 500, 81577)\n",
      "log_posterior.shape: (2, 500)\n",
      "----------- Batch 22 -----------\n",
      "xt.shape: (500, 81577)\n",
      "log_prior.shape: (2, 1)\n",
      "self.sigma.shape: (2, 1, 81577)\n",
      "self.mu.shape (2, 1, 81577)\n",
      "xt.shape: (1, 500, 81577)\n",
      "log_posterior.shape: (2, 500)\n",
      "----------- Batch 23 -----------\n",
      "xt.shape: (500, 81577)\n",
      "log_prior.shape: (2, 1)\n",
      "self.sigma.shape: (2, 1, 81577)\n",
      "self.mu.shape (2, 1, 81577)\n",
      "xt.shape: (1, 500, 81577)\n",
      "log_posterior.shape: (2, 500)\n",
      "----------- Batch 24 -----------\n",
      "xt.shape: (500, 81577)\n",
      "log_prior.shape: (2, 1)\n",
      "self.sigma.shape: (2, 1, 81577)\n",
      "self.mu.shape (2, 1, 81577)\n",
      "xt.shape: (1, 500, 81577)\n",
      "log_posterior.shape: (2, 500)\n",
      "----------- Batch 25 -----------\n",
      "xt.shape: (500, 81577)\n",
      "log_prior.shape: (2, 1)\n",
      "self.sigma.shape: (2, 1, 81577)\n",
      "self.mu.shape (2, 1, 81577)\n",
      "xt.shape: (1, 500, 81577)\n",
      "log_posterior.shape: (2, 500)\n",
      "----------- Batch 26 -----------\n",
      "xt.shape: (500, 81577)\n",
      "log_prior.shape: (2, 1)\n",
      "self.sigma.shape: (2, 1, 81577)\n",
      "self.mu.shape (2, 1, 81577)\n",
      "xt.shape: (1, 500, 81577)\n",
      "log_posterior.shape: (2, 500)\n",
      "----------- Batch 27 -----------\n",
      "xt.shape: (500, 81577)\n",
      "log_prior.shape: (2, 1)\n",
      "self.sigma.shape: (2, 1, 81577)\n",
      "self.mu.shape (2, 1, 81577)\n",
      "xt.shape: (1, 500, 81577)\n",
      "log_posterior.shape: (2, 500)\n",
      "----------- Batch 28 -----------\n",
      "xt.shape: (500, 81577)\n",
      "log_prior.shape: (2, 1)\n",
      "self.sigma.shape: (2, 1, 81577)\n",
      "self.mu.shape (2, 1, 81577)\n",
      "xt.shape: (1, 500, 81577)\n",
      "log_posterior.shape: (2, 500)\n",
      "----------- Batch 29 -----------\n",
      "xt.shape: (500, 81577)\n",
      "log_prior.shape: (2, 1)\n",
      "self.sigma.shape: (2, 1, 81577)\n",
      "self.mu.shape (2, 1, 81577)\n",
      "xt.shape: (1, 500, 81577)\n",
      "log_posterior.shape: (2, 500)\n",
      "----------- Batch 30 -----------\n",
      "xt.shape: (500, 81577)\n",
      "log_prior.shape: (2, 1)\n",
      "self.sigma.shape: (2, 1, 81577)\n",
      "self.mu.shape (2, 1, 81577)\n",
      "xt.shape: (1, 500, 81577)\n",
      "log_posterior.shape: (2, 500)\n",
      "----------- Batch 31 -----------\n",
      "xt.shape: (500, 81577)\n",
      "log_prior.shape: (2, 1)\n",
      "self.sigma.shape: (2, 1, 81577)\n",
      "self.mu.shape (2, 1, 81577)\n",
      "xt.shape: (1, 500, 81577)\n",
      "log_posterior.shape: (2, 500)\n",
      "----------- Batch 32 -----------\n",
      "xt.shape: (500, 81577)\n",
      "log_prior.shape: (2, 1)\n",
      "self.sigma.shape: (2, 1, 81577)\n",
      "self.mu.shape (2, 1, 81577)\n",
      "xt.shape: (1, 500, 81577)\n",
      "log_posterior.shape: (2, 500)\n",
      "----------- Batch 33 -----------\n",
      "xt.shape: (500, 81577)\n",
      "log_prior.shape: (2, 1)\n",
      "self.sigma.shape: (2, 1, 81577)\n",
      "self.mu.shape (2, 1, 81577)\n",
      "xt.shape: (1, 500, 81577)\n",
      "log_posterior.shape: (2, 500)\n",
      "----------- Batch 34 -----------\n",
      "xt.shape: (500, 81577)\n",
      "log_prior.shape: (2, 1)\n",
      "self.sigma.shape: (2, 1, 81577)\n",
      "self.mu.shape (2, 1, 81577)\n",
      "xt.shape: (1, 500, 81577)\n",
      "log_posterior.shape: (2, 500)\n",
      "----------- Batch 35 -----------\n",
      "xt.shape: (500, 81577)\n",
      "log_prior.shape: (2, 1)\n",
      "self.sigma.shape: (2, 1, 81577)\n",
      "self.mu.shape (2, 1, 81577)\n",
      "xt.shape: (1, 500, 81577)\n",
      "log_posterior.shape: (2, 500)\n",
      "----------- Batch 36 -----------\n",
      "xt.shape: (500, 81577)\n",
      "log_prior.shape: (2, 1)\n",
      "self.sigma.shape: (2, 1, 81577)\n",
      "self.mu.shape (2, 1, 81577)\n",
      "xt.shape: (1, 500, 81577)\n",
      "log_posterior.shape: (2, 500)\n",
      "----------- Batch 37 -----------\n",
      "xt.shape: (500, 81577)\n",
      "log_prior.shape: (2, 1)\n",
      "self.sigma.shape: (2, 1, 81577)\n",
      "self.mu.shape (2, 1, 81577)\n",
      "xt.shape: (1, 500, 81577)\n",
      "log_posterior.shape: (2, 500)\n",
      "----------- Batch 38 -----------\n",
      "xt.shape: (500, 81577)\n",
      "log_prior.shape: (2, 1)\n",
      "self.sigma.shape: (2, 1, 81577)\n",
      "self.mu.shape (2, 1, 81577)\n",
      "xt.shape: (1, 500, 81577)\n",
      "log_posterior.shape: (2, 500)\n",
      "----------- Batch 39 -----------\n",
      "xt.shape: (500, 81577)\n",
      "log_prior.shape: (2, 1)\n",
      "self.sigma.shape: (2, 1, 81577)\n",
      "self.mu.shape (2, 1, 81577)\n",
      "xt.shape: (1, 500, 81577)\n",
      "log_posterior.shape: (2, 500)\n",
      "\n",
      "----------------- Fold 4 -----------------\n",
      "----------- Batch 0 -----------\n",
      "xt.shape: (500, 81577)\n",
      "log_prior.shape: (2, 1)\n",
      "self.sigma.shape: (2, 1, 81577)\n",
      "self.mu.shape (2, 1, 81577)\n",
      "xt.shape: (1, 500, 81577)\n",
      "log_posterior.shape: (2, 500)\n",
      "----------- Batch 1 -----------\n",
      "xt.shape: (500, 81577)\n",
      "log_prior.shape: (2, 1)\n",
      "self.sigma.shape: (2, 1, 81577)\n",
      "self.mu.shape (2, 1, 81577)\n",
      "xt.shape: (1, 500, 81577)\n",
      "log_posterior.shape: (2, 500)\n",
      "----------- Batch 2 -----------\n",
      "xt.shape: (500, 81577)\n",
      "log_prior.shape: (2, 1)\n",
      "self.sigma.shape: (2, 1, 81577)\n",
      "self.mu.shape (2, 1, 81577)\n",
      "xt.shape: (1, 500, 81577)\n",
      "log_posterior.shape: (2, 500)\n",
      "----------- Batch 3 -----------\n",
      "xt.shape: (500, 81577)\n",
      "log_prior.shape: (2, 1)\n",
      "self.sigma.shape: (2, 1, 81577)\n",
      "self.mu.shape (2, 1, 81577)\n",
      "xt.shape: (1, 500, 81577)\n",
      "log_posterior.shape: (2, 500)\n",
      "----------- Batch 4 -----------\n",
      "xt.shape: (500, 81577)\n",
      "log_prior.shape: (2, 1)\n",
      "self.sigma.shape: (2, 1, 81577)\n",
      "self.mu.shape (2, 1, 81577)\n",
      "xt.shape: (1, 500, 81577)\n",
      "log_posterior.shape: (2, 500)\n",
      "----------- Batch 5 -----------\n",
      "xt.shape: (500, 81577)\n",
      "log_prior.shape: (2, 1)\n",
      "self.sigma.shape: (2, 1, 81577)\n",
      "self.mu.shape (2, 1, 81577)\n",
      "xt.shape: (1, 500, 81577)\n",
      "log_posterior.shape: (2, 500)\n",
      "----------- Batch 6 -----------\n",
      "xt.shape: (500, 81577)\n",
      "log_prior.shape: (2, 1)\n",
      "self.sigma.shape: (2, 1, 81577)\n",
      "self.mu.shape (2, 1, 81577)\n",
      "xt.shape: (1, 500, 81577)\n",
      "log_posterior.shape: (2, 500)\n",
      "----------- Batch 7 -----------\n",
      "xt.shape: (500, 81577)\n",
      "log_prior.shape: (2, 1)\n",
      "self.sigma.shape: (2, 1, 81577)\n",
      "self.mu.shape (2, 1, 81577)\n",
      "xt.shape: (1, 500, 81577)\n"
     ]
    },
    {
     "name": "stdout",
     "output_type": "stream",
     "text": [
      "log_posterior.shape: (2, 500)\n",
      "----------- Batch 8 -----------\n",
      "xt.shape: (500, 81577)\n",
      "log_prior.shape: (2, 1)\n",
      "self.sigma.shape: (2, 1, 81577)\n",
      "self.mu.shape (2, 1, 81577)\n",
      "xt.shape: (1, 500, 81577)\n",
      "log_posterior.shape: (2, 500)\n",
      "----------- Batch 9 -----------\n",
      "xt.shape: (500, 81577)\n",
      "log_prior.shape: (2, 1)\n",
      "self.sigma.shape: (2, 1, 81577)\n",
      "self.mu.shape (2, 1, 81577)\n",
      "xt.shape: (1, 500, 81577)\n",
      "log_posterior.shape: (2, 500)\n",
      "----------- Batch 10 -----------\n",
      "xt.shape: (500, 81577)\n",
      "log_prior.shape: (2, 1)\n",
      "self.sigma.shape: (2, 1, 81577)\n",
      "self.mu.shape (2, 1, 81577)\n",
      "xt.shape: (1, 500, 81577)\n",
      "log_posterior.shape: (2, 500)\n",
      "----------- Batch 11 -----------\n",
      "xt.shape: (500, 81577)\n",
      "log_prior.shape: (2, 1)\n",
      "self.sigma.shape: (2, 1, 81577)\n",
      "self.mu.shape (2, 1, 81577)\n",
      "xt.shape: (1, 500, 81577)\n",
      "log_posterior.shape: (2, 500)\n",
      "----------- Batch 12 -----------\n",
      "xt.shape: (500, 81577)\n",
      "log_prior.shape: (2, 1)\n",
      "self.sigma.shape: (2, 1, 81577)\n",
      "self.mu.shape (2, 1, 81577)\n",
      "xt.shape: (1, 500, 81577)\n",
      "log_posterior.shape: (2, 500)\n",
      "----------- Batch 13 -----------\n",
      "xt.shape: (500, 81577)\n",
      "log_prior.shape: (2, 1)\n",
      "self.sigma.shape: (2, 1, 81577)\n",
      "self.mu.shape (2, 1, 81577)\n",
      "xt.shape: (1, 500, 81577)\n",
      "log_posterior.shape: (2, 500)\n",
      "----------- Batch 14 -----------\n",
      "xt.shape: (500, 81577)\n",
      "log_prior.shape: (2, 1)\n",
      "self.sigma.shape: (2, 1, 81577)\n",
      "self.mu.shape (2, 1, 81577)\n",
      "xt.shape: (1, 500, 81577)\n",
      "log_posterior.shape: (2, 500)\n",
      "----------- Batch 15 -----------\n",
      "xt.shape: (500, 81577)\n",
      "log_prior.shape: (2, 1)\n",
      "self.sigma.shape: (2, 1, 81577)\n",
      "self.mu.shape (2, 1, 81577)\n",
      "xt.shape: (1, 500, 81577)\n",
      "log_posterior.shape: (2, 500)\n",
      "----------- Batch 16 -----------\n",
      "xt.shape: (500, 81577)\n",
      "log_prior.shape: (2, 1)\n",
      "self.sigma.shape: (2, 1, 81577)\n",
      "self.mu.shape (2, 1, 81577)\n",
      "xt.shape: (1, 500, 81577)\n",
      "log_posterior.shape: (2, 500)\n",
      "----------- Batch 17 -----------\n",
      "xt.shape: (500, 81577)\n",
      "log_prior.shape: (2, 1)\n",
      "self.sigma.shape: (2, 1, 81577)\n",
      "self.mu.shape (2, 1, 81577)\n",
      "xt.shape: (1, 500, 81577)\n",
      "log_posterior.shape: (2, 500)\n",
      "----------- Batch 18 -----------\n",
      "xt.shape: (500, 81577)\n",
      "log_prior.shape: (2, 1)\n",
      "self.sigma.shape: (2, 1, 81577)\n",
      "self.mu.shape (2, 1, 81577)\n",
      "xt.shape: (1, 500, 81577)\n",
      "log_posterior.shape: (2, 500)\n",
      "----------- Batch 19 -----------\n",
      "xt.shape: (500, 81577)\n",
      "log_prior.shape: (2, 1)\n",
      "self.sigma.shape: (2, 1, 81577)\n",
      "self.mu.shape (2, 1, 81577)\n",
      "xt.shape: (1, 500, 81577)\n",
      "log_posterior.shape: (2, 500)\n",
      "----------- Batch 20 -----------\n",
      "xt.shape: (500, 81577)\n",
      "log_prior.shape: (2, 1)\n",
      "self.sigma.shape: (2, 1, 81577)\n",
      "self.mu.shape (2, 1, 81577)\n",
      "xt.shape: (1, 500, 81577)\n",
      "log_posterior.shape: (2, 500)\n",
      "----------- Batch 21 -----------\n",
      "xt.shape: (500, 81577)\n",
      "log_prior.shape: (2, 1)\n",
      "self.sigma.shape: (2, 1, 81577)\n",
      "self.mu.shape (2, 1, 81577)\n",
      "xt.shape: (1, 500, 81577)\n",
      "log_posterior.shape: (2, 500)\n",
      "----------- Batch 22 -----------\n",
      "xt.shape: (500, 81577)\n",
      "log_prior.shape: (2, 1)\n",
      "self.sigma.shape: (2, 1, 81577)\n",
      "self.mu.shape (2, 1, 81577)\n",
      "xt.shape: (1, 500, 81577)\n",
      "log_posterior.shape: (2, 500)\n",
      "----------- Batch 23 -----------\n",
      "xt.shape: (500, 81577)\n",
      "log_prior.shape: (2, 1)\n",
      "self.sigma.shape: (2, 1, 81577)\n",
      "self.mu.shape (2, 1, 81577)\n",
      "xt.shape: (1, 500, 81577)\n",
      "log_posterior.shape: (2, 500)\n",
      "----------- Batch 24 -----------\n",
      "xt.shape: (500, 81577)\n",
      "log_prior.shape: (2, 1)\n",
      "self.sigma.shape: (2, 1, 81577)\n",
      "self.mu.shape (2, 1, 81577)\n",
      "xt.shape: (1, 500, 81577)\n",
      "log_posterior.shape: (2, 500)\n",
      "----------- Batch 25 -----------\n",
      "xt.shape: (500, 81577)\n",
      "log_prior.shape: (2, 1)\n",
      "self.sigma.shape: (2, 1, 81577)\n",
      "self.mu.shape (2, 1, 81577)\n",
      "xt.shape: (1, 500, 81577)\n",
      "log_posterior.shape: (2, 500)\n",
      "----------- Batch 26 -----------\n",
      "xt.shape: (500, 81577)\n",
      "log_prior.shape: (2, 1)\n",
      "self.sigma.shape: (2, 1, 81577)\n",
      "self.mu.shape (2, 1, 81577)\n",
      "xt.shape: (1, 500, 81577)\n",
      "log_posterior.shape: (2, 500)\n",
      "----------- Batch 27 -----------\n",
      "xt.shape: (500, 81577)\n",
      "log_prior.shape: (2, 1)\n",
      "self.sigma.shape: (2, 1, 81577)\n",
      "self.mu.shape (2, 1, 81577)\n",
      "xt.shape: (1, 500, 81577)\n",
      "log_posterior.shape: (2, 500)\n",
      "----------- Batch 28 -----------\n",
      "xt.shape: (500, 81577)\n",
      "log_prior.shape: (2, 1)\n",
      "self.sigma.shape: (2, 1, 81577)\n",
      "self.mu.shape (2, 1, 81577)\n",
      "xt.shape: (1, 500, 81577)\n",
      "log_posterior.shape: (2, 500)\n",
      "----------- Batch 29 -----------\n",
      "xt.shape: (500, 81577)\n",
      "log_prior.shape: (2, 1)\n",
      "self.sigma.shape: (2, 1, 81577)\n",
      "self.mu.shape (2, 1, 81577)\n",
      "xt.shape: (1, 500, 81577)\n",
      "log_posterior.shape: (2, 500)\n",
      "----------- Batch 30 -----------\n",
      "xt.shape: (500, 81577)\n",
      "log_prior.shape: (2, 1)\n",
      "self.sigma.shape: (2, 1, 81577)\n",
      "self.mu.shape (2, 1, 81577)\n",
      "xt.shape: (1, 500, 81577)\n",
      "log_posterior.shape: (2, 500)\n",
      "----------- Batch 31 -----------\n",
      "xt.shape: (500, 81577)\n",
      "log_prior.shape: (2, 1)\n",
      "self.sigma.shape: (2, 1, 81577)\n",
      "self.mu.shape (2, 1, 81577)\n",
      "xt.shape: (1, 500, 81577)\n",
      "log_posterior.shape: (2, 500)\n",
      "----------- Batch 32 -----------\n",
      "xt.shape: (500, 81577)\n",
      "log_prior.shape: (2, 1)\n",
      "self.sigma.shape: (2, 1, 81577)\n",
      "self.mu.shape (2, 1, 81577)\n",
      "xt.shape: (1, 500, 81577)\n",
      "log_posterior.shape: (2, 500)\n",
      "----------- Batch 33 -----------\n",
      "xt.shape: (500, 81577)\n",
      "log_prior.shape: (2, 1)\n",
      "self.sigma.shape: (2, 1, 81577)\n",
      "self.mu.shape (2, 1, 81577)\n",
      "xt.shape: (1, 500, 81577)\n",
      "log_posterior.shape: (2, 500)\n",
      "----------- Batch 34 -----------\n",
      "xt.shape: (500, 81577)\n",
      "log_prior.shape: (2, 1)\n",
      "self.sigma.shape: (2, 1, 81577)\n",
      "self.mu.shape (2, 1, 81577)\n",
      "xt.shape: (1, 500, 81577)\n",
      "log_posterior.shape: (2, 500)\n",
      "----------- Batch 35 -----------\n",
      "xt.shape: (500, 81577)\n",
      "log_prior.shape: (2, 1)\n",
      "self.sigma.shape: (2, 1, 81577)\n",
      "self.mu.shape (2, 1, 81577)\n",
      "xt.shape: (1, 500, 81577)\n",
      "log_posterior.shape: (2, 500)\n",
      "----------- Batch 36 -----------\n",
      "xt.shape: (500, 81577)\n",
      "log_prior.shape: (2, 1)\n",
      "self.sigma.shape: (2, 1, 81577)\n",
      "self.mu.shape (2, 1, 81577)\n",
      "xt.shape: (1, 500, 81577)\n",
      "log_posterior.shape: (2, 500)\n",
      "----------- Batch 37 -----------\n",
      "xt.shape: (500, 81577)\n",
      "log_prior.shape: (2, 1)\n",
      "self.sigma.shape: (2, 1, 81577)\n",
      "self.mu.shape (2, 1, 81577)\n",
      "xt.shape: (1, 500, 81577)\n",
      "log_posterior.shape: (2, 500)\n",
      "----------- Batch 38 -----------\n",
      "xt.shape: (500, 81577)\n",
      "log_prior.shape: (2, 1)\n",
      "self.sigma.shape: (2, 1, 81577)\n",
      "self.mu.shape (2, 1, 81577)\n",
      "xt.shape: (1, 500, 81577)\n",
      "log_posterior.shape: (2, 500)\n",
      "----------- Batch 39 -----------\n",
      "xt.shape: (500, 81577)\n",
      "log_prior.shape: (2, 1)\n",
      "self.sigma.shape: (2, 1, 81577)\n",
      "self.mu.shape (2, 1, 81577)\n",
      "xt.shape: (1, 500, 81577)\n",
      "log_posterior.shape: (2, 500)\n",
      "\n",
      "\n",
      "Mean Accuracy 0.49938000000000005\n"
     ]
    }
   ],
   "source": [
    "model = GaussianNaiveBayes()\n",
    "\n",
    "# to get accuracies for each fold\n",
    "accuracies = kfoldCV(cropped_x, cropped_y.values, model, n_folds=5)\n",
    "print(\"\\n\\nMean Accuracy\", np.mean(accuracies))"
   ]
  },
  {
   "cell_type": "code",
   "execution_count": 18,
   "metadata": {},
   "outputs": [
    {
     "data": {
      "text/plain": [
       "[0.49875, 0.49515, 0.5001, 0.5028, 0.5001]"
      ]
     },
     "execution_count": 18,
     "metadata": {},
     "output_type": "execute_result"
    }
   ],
   "source": [
    "accuracies"
   ]
  },
  {
   "cell_type": "markdown",
   "metadata": {
    "id": "Elb5l5sDq535"
   },
   "source": [
    "#### Logistic regression"
   ]
  },
  {
   "cell_type": "markdown",
   "metadata": {
    "id": "_fbIzsX7DsMU"
   },
   "source": [
    "##### Test regularization strenght softmax"
   ]
  },
  {
   "cell_type": "code",
   "execution_count": 19,
   "metadata": {
    "id": "30JOajg5L_jC",
    "scrolled": true
   },
   "outputs": [
    {
     "name": "stdout",
     "output_type": "stream",
     "text": [
      "\n",
      "\n",
      "C: 0.5 \n",
      "\n",
      "\n",
      "\n",
      "----------------- Fold 0 -----------------\n",
      "----------- Batch 0 -----------\n",
      "\n",
      "----------------- Fold 1 -----------------\n",
      "----------- Batch 0 -----------\n",
      "\n",
      "----------------- Fold 2 -----------------\n",
      "----------- Batch 0 -----------\n",
      "\n",
      "----------------- Fold 3 -----------------\n",
      "----------- Batch 0 -----------\n",
      "\n",
      "----------------- Fold 4 -----------------\n",
      "----------- Batch 0 -----------\n",
      "\n",
      "\n",
      "C: 0.75 \n",
      "\n",
      "\n",
      "\n",
      "----------------- Fold 0 -----------------\n",
      "----------- Batch 0 -----------\n",
      "\n",
      "----------------- Fold 1 -----------------\n",
      "----------- Batch 0 -----------\n",
      "\n",
      "----------------- Fold 2 -----------------\n",
      "----------- Batch 0 -----------\n",
      "\n",
      "----------------- Fold 3 -----------------\n",
      "----------- Batch 0 -----------\n",
      "\n",
      "----------------- Fold 4 -----------------\n",
      "----------- Batch 0 -----------\n",
      "\n",
      "\n",
      "C: 1.0 \n",
      "\n",
      "\n",
      "\n",
      "----------------- Fold 0 -----------------\n",
      "----------- Batch 0 -----------\n",
      "\n",
      "----------------- Fold 1 -----------------\n",
      "----------- Batch 0 -----------\n",
      "\n",
      "----------------- Fold 2 -----------------\n",
      "----------- Batch 0 -----------\n",
      "\n",
      "----------------- Fold 3 -----------------\n",
      "----------- Batch 0 -----------\n",
      "\n",
      "----------------- Fold 4 -----------------\n",
      "----------- Batch 0 -----------\n",
      "\n",
      "\n",
      "C: 1.25 \n",
      "\n",
      "\n",
      "\n",
      "----------------- Fold 0 -----------------\n",
      "----------- Batch 0 -----------\n",
      "\n",
      "----------------- Fold 1 -----------------\n",
      "----------- Batch 0 -----------\n",
      "\n",
      "----------------- Fold 2 -----------------\n",
      "----------- Batch 0 -----------\n",
      "\n",
      "----------------- Fold 3 -----------------\n",
      "----------- Batch 0 -----------\n",
      "\n",
      "----------------- Fold 4 -----------------\n",
      "----------- Batch 0 -----------\n",
      "\n",
      "\n",
      "C: 1.5 \n",
      "\n",
      "\n",
      "\n",
      "----------------- Fold 0 -----------------\n",
      "----------- Batch 0 -----------\n",
      "\n",
      "----------------- Fold 1 -----------------\n",
      "----------- Batch 0 -----------\n",
      "\n",
      "----------------- Fold 2 -----------------\n",
      "----------- Batch 0 -----------\n",
      "\n",
      "----------------- Fold 3 -----------------\n",
      "----------- Batch 0 -----------\n",
      "\n",
      "----------------- Fold 4 -----------------\n",
      "----------- Batch 0 -----------\n",
      "\n",
      "\n",
      "C: 1.75 \n",
      "\n",
      "\n",
      "\n",
      "----------------- Fold 0 -----------------\n",
      "----------- Batch 0 -----------\n",
      "\n",
      "----------------- Fold 1 -----------------\n",
      "----------- Batch 0 -----------\n",
      "\n",
      "----------------- Fold 2 -----------------\n",
      "----------- Batch 0 -----------\n",
      "\n",
      "----------------- Fold 3 -----------------\n",
      "----------- Batch 0 -----------\n",
      "\n",
      "----------------- Fold 4 -----------------\n",
      "----------- Batch 0 -----------\n",
      "\n",
      "\n",
      "C: 2.0 \n",
      "\n",
      "\n",
      "\n",
      "----------------- Fold 0 -----------------\n",
      "----------- Batch 0 -----------\n",
      "\n",
      "----------------- Fold 1 -----------------\n",
      "----------- Batch 0 -----------\n",
      "\n",
      "----------------- Fold 2 -----------------\n",
      "----------- Batch 0 -----------\n",
      "\n",
      "----------------- Fold 3 -----------------\n",
      "----------- Batch 0 -----------\n",
      "\n",
      "----------------- Fold 4 -----------------\n",
      "----------- Batch 0 -----------\n",
      "\n",
      "\n",
      "C: 2.25 \n",
      "\n",
      "\n",
      "\n",
      "----------------- Fold 0 -----------------\n",
      "----------- Batch 0 -----------\n",
      "\n",
      "----------------- Fold 1 -----------------\n",
      "----------- Batch 0 -----------\n",
      "\n",
      "----------------- Fold 2 -----------------\n",
      "----------- Batch 0 -----------\n",
      "\n",
      "----------------- Fold 3 -----------------\n",
      "----------- Batch 0 -----------\n",
      "\n",
      "----------------- Fold 4 -----------------\n",
      "----------- Batch 0 -----------\n",
      "\n",
      "\n",
      "C: 2.5 \n",
      "\n",
      "\n",
      "\n",
      "----------------- Fold 0 -----------------\n",
      "----------- Batch 0 -----------\n",
      "\n",
      "----------------- Fold 1 -----------------\n",
      "----------- Batch 0 -----------\n",
      "\n",
      "----------------- Fold 2 -----------------\n",
      "----------- Batch 0 -----------\n",
      "\n",
      "----------------- Fold 3 -----------------\n",
      "----------- Batch 0 -----------\n",
      "\n",
      "----------------- Fold 4 -----------------\n",
      "----------- Batch 0 -----------\n",
      "\n",
      "\n",
      "C: 2.75 \n",
      "\n",
      "\n",
      "\n",
      "----------------- Fold 0 -----------------\n",
      "----------- Batch 0 -----------\n",
      "\n",
      "----------------- Fold 1 -----------------\n",
      "----------- Batch 0 -----------\n",
      "\n",
      "----------------- Fold 2 -----------------\n",
      "----------- Batch 0 -----------\n",
      "\n",
      "----------------- Fold 3 -----------------\n",
      "----------- Batch 0 -----------\n",
      "\n",
      "----------------- Fold 4 -----------------\n",
      "----------- Batch 0 -----------\n"
     ]
    },
    {
     "data": {
      "image/png": "[encoded data removed]",
      "text/plain": [
       "<Figure size 432x288 with 1 Axes>"
      ]
     },
     "metadata": {
      "needs_background": "light"
     },
     "output_type": "display_data"
    },
    {
     "name": "stdout",
     "output_type": "stream",
     "text": [
      "The best C: 2.25 with accuracy of: 0.76035\n"
     ]
    }
   ],
   "source": [
    "score=[]\n",
    "cs=list(np.arange(0.5,3,0.25))\n",
    "for c in cs:\n",
    "    print(\"\\n\\nC:\", c, \"\\n\\n\")\n",
    "    clf = LogisticRegression(C=c, multi_class='auto', solver='liblinear', max_iter=200, tol=1e-3)\n",
    "    accuracy = kfoldCV(cropped_x, cropped_y.values, clf, n_folds=5, batch_size=20000)\n",
    "    score.append(np.mean(accuracy))\n",
    "    \n",
    "plt.plot(cs, score, 'o-')\n",
    "plt.title('Tuning Inverse of regularization strength for the logistic regression for 140 Sentiment')\n",
    "plt.ylabel('overall accuracy')\n",
    "plt.xlabel('Inverse of regularization strength')\n",
    "plt.show()\n",
    "print(\"The best C:\",cs[np.argmax(score)],\"with accuracy of:\",max(score))\n",
    "best_c_140=cs[np.argmax(score)]"
   ]
  },
  {
   "cell_type": "markdown",
   "metadata": {
    "id": "fL7AmUirrWd-"
   },
   "source": [
    "##### Test different penalty function for logistic regression"
   ]
  },
  {
   "cell_type": "code",
   "execution_count": 20,
   "metadata": {
    "id": "5WNbd-7OSzvV",
    "scrolled": true
   },
   "outputs": [
    {
     "name": "stdout",
     "output_type": "stream",
     "text": [
      "\n",
      "\n",
      "Penalty: l1 \n",
      "\n",
      "\n",
      "\n",
      "----------------- Fold 0 -----------------\n",
      "----------- Batch 0 -----------\n"
     ]
    },
    {
     "name": "stderr",
     "output_type": "stream",
     "text": [
      "/Users/KarlKoerich/opt/anaconda3/lib/python3.8/site-packages/sklearn/linear_model/_logistic.py:1317: UserWarning: l1_ratio parameter is only used when penalty is 'elasticnet'. Got (penalty=l1)\n",
      "  warnings.warn(\"l1_ratio parameter is only used when penalty is \"\n"
     ]
    },
    {
     "name": "stdout",
     "output_type": "stream",
     "text": [
      "\n",
      "----------------- Fold 1 -----------------\n",
      "----------- Batch 0 -----------\n"
     ]
    },
    {
     "name": "stderr",
     "output_type": "stream",
     "text": [
      "/Users/KarlKoerich/opt/anaconda3/lib/python3.8/site-packages/sklearn/linear_model/_logistic.py:1317: UserWarning: l1_ratio parameter is only used when penalty is 'elasticnet'. Got (penalty=l1)\n",
      "  warnings.warn(\"l1_ratio parameter is only used when penalty is \"\n"
     ]
    },
    {
     "name": "stdout",
     "output_type": "stream",
     "text": [
      "\n",
      "----------------- Fold 2 -----------------\n",
      "----------- Batch 0 -----------\n"
     ]
    },
    {
     "name": "stderr",
     "output_type": "stream",
     "text": [
      "/Users/KarlKoerich/opt/anaconda3/lib/python3.8/site-packages/sklearn/linear_model/_logistic.py:1317: UserWarning: l1_ratio parameter is only used when penalty is 'elasticnet'. Got (penalty=l1)\n",
      "  warnings.warn(\"l1_ratio parameter is only used when penalty is \"\n"
     ]
    },
    {
     "name": "stdout",
     "output_type": "stream",
     "text": [
      "\n",
      "----------------- Fold 3 -----------------\n",
      "----------- Batch 0 -----------\n"
     ]
    },
    {
     "name": "stderr",
     "output_type": "stream",
     "text": [
      "/Users/KarlKoerich/opt/anaconda3/lib/python3.8/site-packages/sklearn/linear_model/_logistic.py:1317: UserWarning: l1_ratio parameter is only used when penalty is 'elasticnet'. Got (penalty=l1)\n",
      "  warnings.warn(\"l1_ratio parameter is only used when penalty is \"\n"
     ]
    },
    {
     "name": "stdout",
     "output_type": "stream",
     "text": [
      "\n",
      "----------------- Fold 4 -----------------\n",
      "----------- Batch 0 -----------\n"
     ]
    },
    {
     "name": "stderr",
     "output_type": "stream",
     "text": [
      "/Users/KarlKoerich/opt/anaconda3/lib/python3.8/site-packages/sklearn/linear_model/_logistic.py:1317: UserWarning: l1_ratio parameter is only used when penalty is 'elasticnet'. Got (penalty=l1)\n",
      "  warnings.warn(\"l1_ratio parameter is only used when penalty is \"\n"
     ]
    },
    {
     "name": "stdout",
     "output_type": "stream",
     "text": [
      "\n",
      "\n",
      "Penalty: l2 \n",
      "\n",
      "\n",
      "\n",
      "----------------- Fold 0 -----------------\n",
      "----------- Batch 0 -----------\n"
     ]
    },
    {
     "name": "stderr",
     "output_type": "stream",
     "text": [
      "/Users/KarlKoerich/opt/anaconda3/lib/python3.8/site-packages/sklearn/linear_model/_logistic.py:1317: UserWarning: l1_ratio parameter is only used when penalty is 'elasticnet'. Got (penalty=l2)\n",
      "  warnings.warn(\"l1_ratio parameter is only used when penalty is \"\n"
     ]
    },
    {
     "name": "stdout",
     "output_type": "stream",
     "text": [
      "\n",
      "----------------- Fold 1 -----------------\n",
      "----------- Batch 0 -----------\n"
     ]
    },
    {
     "name": "stderr",
     "output_type": "stream",
     "text": [
      "/Users/KarlKoerich/opt/anaconda3/lib/python3.8/site-packages/sklearn/linear_model/_logistic.py:1317: UserWarning: l1_ratio parameter is only used when penalty is 'elasticnet'. Got (penalty=l2)\n",
      "  warnings.warn(\"l1_ratio parameter is only used when penalty is \"\n"
     ]
    },
    {
     "name": "stdout",
     "output_type": "stream",
     "text": [
      "\n",
      "----------------- Fold 2 -----------------\n",
      "----------- Batch 0 -----------\n"
     ]
    },
    {
     "name": "stderr",
     "output_type": "stream",
     "text": [
      "/Users/KarlKoerich/opt/anaconda3/lib/python3.8/site-packages/sklearn/linear_model/_logistic.py:1317: UserWarning: l1_ratio parameter is only used when penalty is 'elasticnet'. Got (penalty=l2)\n",
      "  warnings.warn(\"l1_ratio parameter is only used when penalty is \"\n"
     ]
    },
    {
     "name": "stdout",
     "output_type": "stream",
     "text": [
      "\n",
      "----------------- Fold 3 -----------------\n",
      "----------- Batch 0 -----------\n"
     ]
    },
    {
     "name": "stderr",
     "output_type": "stream",
     "text": [
      "/Users/KarlKoerich/opt/anaconda3/lib/python3.8/site-packages/sklearn/linear_model/_logistic.py:1317: UserWarning: l1_ratio parameter is only used when penalty is 'elasticnet'. Got (penalty=l2)\n",
      "  warnings.warn(\"l1_ratio parameter is only used when penalty is \"\n"
     ]
    },
    {
     "name": "stdout",
     "output_type": "stream",
     "text": [
      "\n",
      "----------------- Fold 4 -----------------\n",
      "----------- Batch 0 -----------\n"
     ]
    },
    {
     "name": "stderr",
     "output_type": "stream",
     "text": [
      "/Users/KarlKoerich/opt/anaconda3/lib/python3.8/site-packages/sklearn/linear_model/_logistic.py:1317: UserWarning: l1_ratio parameter is only used when penalty is 'elasticnet'. Got (penalty=l2)\n",
      "  warnings.warn(\"l1_ratio parameter is only used when penalty is \"\n"
     ]
    },
    {
     "name": "stdout",
     "output_type": "stream",
     "text": [
      "\n",
      "\n",
      "Penalty: elasticnet \n",
      "\n",
      "\n",
      "\n",
      "----------------- Fold 0 -----------------\n",
      "----------- Batch 0 -----------\n",
      "\n",
      "----------------- Fold 1 -----------------\n",
      "----------- Batch 0 -----------\n",
      "\n",
      "----------------- Fold 2 -----------------\n",
      "----------- Batch 0 -----------\n",
      "\n",
      "----------------- Fold 3 -----------------\n",
      "----------- Batch 0 -----------\n",
      "\n",
      "----------------- Fold 4 -----------------\n",
      "----------- Batch 0 -----------\n",
      "\n",
      "\n",
      "Penalty: none \n",
      "\n",
      "\n",
      "\n",
      "----------------- Fold 0 -----------------\n",
      "----------- Batch 0 -----------\n"
     ]
    },
    {
     "name": "stderr",
     "output_type": "stream",
     "text": [
      "/Users/KarlKoerich/opt/anaconda3/lib/python3.8/site-packages/sklearn/linear_model/_logistic.py:1317: UserWarning: l1_ratio parameter is only used when penalty is 'elasticnet'. Got (penalty=none)\n",
      "  warnings.warn(\"l1_ratio parameter is only used when penalty is \"\n",
      "/Users/KarlKoerich/opt/anaconda3/lib/python3.8/site-packages/sklearn/linear_model/_sag.py:328: ConvergenceWarning: The max_iter was reached which means the coef_ did not converge\n",
      "  warnings.warn(\"The max_iter was reached which means \"\n",
      "/Users/KarlKoerich/opt/anaconda3/lib/python3.8/site-packages/sklearn/linear_model/_logistic.py:1317: UserWarning: l1_ratio parameter is only used when penalty is 'elasticnet'. Got (penalty=none)\n",
      "  warnings.warn(\"l1_ratio parameter is only used when penalty is \"\n"
     ]
    },
    {
     "name": "stdout",
     "output_type": "stream",
     "text": [
      "\n",
      "----------------- Fold 1 -----------------\n",
      "----------- Batch 0 -----------\n"
     ]
    },
    {
     "name": "stderr",
     "output_type": "stream",
     "text": [
      "/Users/KarlKoerich/opt/anaconda3/lib/python3.8/site-packages/sklearn/linear_model/_sag.py:328: ConvergenceWarning: The max_iter was reached which means the coef_ did not converge\n",
      "  warnings.warn(\"The max_iter was reached which means \"\n",
      "/Users/KarlKoerich/opt/anaconda3/lib/python3.8/site-packages/sklearn/linear_model/_logistic.py:1317: UserWarning: l1_ratio parameter is only used when penalty is 'elasticnet'. Got (penalty=none)\n",
      "  warnings.warn(\"l1_ratio parameter is only used when penalty is \"\n"
     ]
    },
    {
     "name": "stdout",
     "output_type": "stream",
     "text": [
      "\n",
      "----------------- Fold 2 -----------------\n",
      "----------- Batch 0 -----------\n"
     ]
    },
    {
     "name": "stderr",
     "output_type": "stream",
     "text": [
      "/Users/KarlKoerich/opt/anaconda3/lib/python3.8/site-packages/sklearn/linear_model/_sag.py:328: ConvergenceWarning: The max_iter was reached which means the coef_ did not converge\n",
      "  warnings.warn(\"The max_iter was reached which means \"\n",
      "/Users/KarlKoerich/opt/anaconda3/lib/python3.8/site-packages/sklearn/linear_model/_logistic.py:1317: UserWarning: l1_ratio parameter is only used when penalty is 'elasticnet'. Got (penalty=none)\n",
      "  warnings.warn(\"l1_ratio parameter is only used when penalty is \"\n"
     ]
    },
    {
     "name": "stdout",
     "output_type": "stream",
     "text": [
      "\n",
      "----------------- Fold 3 -----------------\n",
      "----------- Batch 0 -----------\n"
     ]
    },
    {
     "name": "stderr",
     "output_type": "stream",
     "text": [
      "/Users/KarlKoerich/opt/anaconda3/lib/python3.8/site-packages/sklearn/linear_model/_sag.py:328: ConvergenceWarning: The max_iter was reached which means the coef_ did not converge\n",
      "  warnings.warn(\"The max_iter was reached which means \"\n",
      "/Users/KarlKoerich/opt/anaconda3/lib/python3.8/site-packages/sklearn/linear_model/_logistic.py:1317: UserWarning: l1_ratio parameter is only used when penalty is 'elasticnet'. Got (penalty=none)\n",
      "  warnings.warn(\"l1_ratio parameter is only used when penalty is \"\n"
     ]
    },
    {
     "name": "stdout",
     "output_type": "stream",
     "text": [
      "\n",
      "----------------- Fold 4 -----------------\n",
      "----------- Batch 0 -----------\n"
     ]
    },
    {
     "name": "stderr",
     "output_type": "stream",
     "text": [
      "/Users/KarlKoerich/opt/anaconda3/lib/python3.8/site-packages/sklearn/linear_model/_sag.py:328: ConvergenceWarning: The max_iter was reached which means the coef_ did not converge\n",
      "  warnings.warn(\"The max_iter was reached which means \"\n"
     ]
    },
    {
     "data": {
      "image/png": "[encoded data removed]",
      "text/plain": [
       "<Figure size 432x288 with 1 Axes>"
      ]
     },
     "metadata": {
      "needs_background": "light"
     },
     "output_type": "display_data"
    },
    {
     "name": "stdout",
     "output_type": "stream",
     "text": [
      "The best penalty: l2 with accuracy of: 0.75965\n"
     ]
    }
   ],
   "source": [
    "score=[]\n",
    "cs=[\"l1\",\"l2\", \"elasticnet\",\"none\"]\n",
    "for c in cs:\n",
    "    print(\"\\n\\nPenalty:\", c, \"\\n\\n\")\n",
    "    clf = LogisticRegression(C=1.0, multi_class='auto', solver='saga', penalty=c,max_iter=200, tol=1e-3, l1_ratio=0.5)\n",
    "    accuracy= kfoldCV(cropped_x, cropped_y.values, clf, n_folds=5, batch_size=20000)\n",
    "    score.append(np.mean(accuracy))\n",
    "    \n",
    "plt.plot(cs, score, 'o-')\n",
    "plt.title('Penalty for the logistic regression for 140 Sentiment')\n",
    "plt.ylabel('overall accuracy')\n",
    "plt.xlabel('Penalty')\n",
    "plt.show()\n",
    "print(\"The best penalty:\",cs[np.argmax(score)],\"with accuracy of:\",max(score))\n",
    "best_penalty_140=cs[np.argmax(score)]"
   ]
  },
  {
   "cell_type": "markdown",
   "metadata": {
    "id": "dOd1tA2UI5Qk"
   },
   "source": [
    "Training set variation"
   ]
  },
  {
   "cell_type": "code",
   "execution_count": 21,
   "metadata": {
    "id": "ZKCaabXP9lXL"
   },
   "outputs": [
    {
     "name": "stdout",
     "output_type": "stream",
     "text": [
      "xt.shape: (358, 81577)\n",
      "log_prior.shape: (2, 1)\n",
      "self.sigma.shape: (2, 1, 81577)\n",
      "self.mu.shape (2, 1, 81577)\n",
      "xt.shape: (1, 358, 81577)\n",
      "log_posterior.shape: (2, 358)\n",
      "xt.shape: (358, 81577)\n",
      "log_prior.shape: (2, 1)\n",
      "self.sigma.shape: (2, 1, 81577)\n",
      "self.mu.shape (2, 1, 81577)\n",
      "xt.shape: (1, 358, 81577)\n",
      "log_posterior.shape: (2, 358)\n",
      "xt.shape: (358, 81577)\n",
      "log_prior.shape: (2, 1)\n",
      "self.sigma.shape: (2, 1, 81577)\n",
      "self.mu.shape (2, 1, 81577)\n",
      "xt.shape: (1, 358, 81577)\n",
      "log_posterior.shape: (2, 358)\n",
      "xt.shape: (358, 81577)\n",
      "log_prior.shape: (2, 1)\n",
      "self.sigma.shape: (2, 1, 81577)\n",
      "self.mu.shape (2, 1, 81577)\n",
      "xt.shape: (1, 358, 81577)\n",
      "log_posterior.shape: (2, 358)\n",
      "xt.shape: (358, 81577)\n",
      "log_prior.shape: (2, 1)\n",
      "self.sigma.shape: (2, 1, 81577)\n",
      "self.mu.shape (2, 1, 81577)\n",
      "xt.shape: (1, 358, 81577)\n",
      "log_posterior.shape: (2, 358)\n",
      "xt.shape: (358, 81577)\n",
      "log_prior.shape: (2, 1)\n",
      "self.sigma.shape: (2, 1, 81577)\n",
      "self.mu.shape (2, 1, 81577)\n",
      "xt.shape: (1, 358, 81577)\n",
      "log_posterior.shape: (2, 358)\n"
     ]
    },
    {
     "data": {
      "image/png": "[encoded data removed]",
      "text/plain": [
       "<Figure size 432x288 with 1 Axes>"
      ]
     },
     "metadata": {
      "needs_background": "light"
     },
     "output_type": "display_data"
    },
    {
     "name": "stdout",
     "output_type": "stream",
     "text": [
      "The best split: 30000 with accuracy of: 0.5949720670391061\n"
     ]
    }
   ],
   "source": [
    "score = []\n",
    "data_split = [10000, 20000, 30000, 40000, 50000, 100000]\n",
    "model = GaussianNaiveBayes()\n",
    "\n",
    "for split in data_split:\n",
    "    \n",
    "    x_train_split, y_train_split  = cropped_x[:split], cropped_y.values[:split]\n",
    "    model.fit(x_train_split, y_train_split)\n",
    "    \n",
    "    y_prob = model.predict(X_test_tf)\n",
    "\n",
    "    y_pred = np.argmax(y_prob, 1)\n",
    "    accuracy = evaluate_acc(y_pred,Y_test)\n",
    "    score.append(accuracy)\n",
    "\n",
    "plt.plot(data_split, score, 'o-', markerfacecolor='orange', color='orange')\n",
    "plt.title('Accuracy of Varying Training Data Size using Naive Bayes on 140 Sentiment')\n",
    "plt.ylabel('overall accuracy')\n",
    "plt.xlabel('Training Size')\n",
    "plt.show()\n",
    "print(\"The best split:\",data_split[np.argmax(score)],\"with accuracy of:\",max(score))"
   ]
  },
  {
   "cell_type": "code",
   "execution_count": 22,
   "metadata": {
    "id": "ino18xNaBpjQ"
   },
   "outputs": [
    {
     "name": "stderr",
     "output_type": "stream",
     "text": [
      "/Users/KarlKoerich/opt/anaconda3/lib/python3.8/site-packages/sklearn/linear_model/_logistic.py:1317: UserWarning: l1_ratio parameter is only used when penalty is 'elasticnet'. Got (penalty=l2)\n",
      "  warnings.warn(\"l1_ratio parameter is only used when penalty is \"\n",
      "/Users/KarlKoerich/opt/anaconda3/lib/python3.8/site-packages/sklearn/linear_model/_logistic.py:1317: UserWarning: l1_ratio parameter is only used when penalty is 'elasticnet'. Got (penalty=l2)\n",
      "  warnings.warn(\"l1_ratio parameter is only used when penalty is \"\n",
      "/Users/KarlKoerich/opt/anaconda3/lib/python3.8/site-packages/sklearn/linear_model/_logistic.py:1317: UserWarning: l1_ratio parameter is only used when penalty is 'elasticnet'. Got (penalty=l2)\n",
      "  warnings.warn(\"l1_ratio parameter is only used when penalty is \"\n",
      "/Users/KarlKoerich/opt/anaconda3/lib/python3.8/site-packages/sklearn/linear_model/_logistic.py:1317: UserWarning: l1_ratio parameter is only used when penalty is 'elasticnet'. Got (penalty=l2)\n",
      "  warnings.warn(\"l1_ratio parameter is only used when penalty is \"\n",
      "/Users/KarlKoerich/opt/anaconda3/lib/python3.8/site-packages/sklearn/linear_model/_logistic.py:1317: UserWarning: l1_ratio parameter is only used when penalty is 'elasticnet'. Got (penalty=l2)\n",
      "  warnings.warn(\"l1_ratio parameter is only used when penalty is \"\n",
      "/Users/KarlKoerich/opt/anaconda3/lib/python3.8/site-packages/sklearn/linear_model/_logistic.py:1317: UserWarning: l1_ratio parameter is only used when penalty is 'elasticnet'. Got (penalty=l2)\n",
      "  warnings.warn(\"l1_ratio parameter is only used when penalty is \"\n"
     ]
    },
    {
     "data": {
      "image/png": "[encoded data removed]",
      "text/plain": [
       "<Figure size 432x288 with 1 Axes>"
      ]
     },
     "metadata": {
      "needs_background": "light"
     },
     "output_type": "display_data"
    },
    {
     "name": "stdout",
     "output_type": "stream",
     "text": [
      "The best split: 100000 with accuracy of: 0.8156424581005587\n"
     ]
    }
   ],
   "source": [
    "score = []\n",
    "data_split = [10000, 20000, 30000, 40000, 50000, 100000]\n",
    "\n",
    "for split in data_split:\n",
    "    \n",
    "    x_train_split, y_train_split  = cropped_x[:split], cropped_y.values[:split]\n",
    "    clf = LogisticRegression(C=best_c_140, multi_class='auto', solver='saga', penalty=best_penalty_140 ,max_iter=200, tol=1e-3, l1_ratio=0.5)\n",
    "    clf.fit(x_train_split, y_train_split)\n",
    "    accuracy = evaluate_acc(clf.predict(X_test_tf), Y_test)\n",
    "    score.append(accuracy)\n",
    "\n",
    "plt.plot(data_split, score, 'o-', markerfacecolor='orange', color='orange')\n",
    "plt.title('Accuracy of Varying Training Data Size using Logistic Regression on 140 Sentiment')\n",
    "plt.ylabel('Overall accuracy')\n",
    "plt.xlabel('Training Size')\n",
    "plt.show()\n",
    "print(\"The best split:\",data_split[np.argmax(score)],\"with accuracy of:\",max(score))"
   ]
  },
  {
   "cell_type": "markdown",
   "metadata": {
    "id": "2-m4yz3Hg-UA"
   },
   "source": [
    "\n",
    "### Initial test with 20 News Group dataset\n",
    "\n",
    "\n"
   ]
  },
  {
   "cell_type": "markdown",
   "metadata": {
    "id": "4Wrs6hADinOH"
   },
   "source": [
    "#### Naive Bayes implementation"
   ]
  },
  {
   "cell_type": "code",
   "execution_count": 23,
   "metadata": {
    "id": "6XhTpul9hLHJ",
    "scrolled": true
   },
   "outputs": [
    {
     "name": "stdout",
     "output_type": "stream",
     "text": [
      "\n",
      "----------------- Fold 0 -----------------\n",
      "----------- Batch 0 -----------\n",
      "xt.shape: (500, 39115)\n",
      "log_prior.shape: (20, 1)\n",
      "self.sigma.shape: (20, 1, 39115)\n",
      "self.mu.shape (20, 1, 39115)\n",
      "xt.shape: (1, 500, 39115)\n",
      "log_posterior.shape: (20, 500)\n",
      "----------- Batch 1 -----------\n",
      "xt.shape: (500, 39115)\n",
      "log_prior.shape: (20, 1)\n",
      "self.sigma.shape: (20, 1, 39115)\n",
      "self.mu.shape (20, 1, 39115)\n",
      "xt.shape: (1, 500, 39115)\n",
      "log_posterior.shape: (20, 500)\n",
      "----------- Batch 2 -----------\n",
      "xt.shape: (500, 39115)\n",
      "log_prior.shape: (20, 1)\n",
      "self.sigma.shape: (20, 1, 39115)\n",
      "self.mu.shape (20, 1, 39115)\n",
      "xt.shape: (1, 500, 39115)\n",
      "log_posterior.shape: (20, 500)\n",
      "----------- Batch 3 -----------\n",
      "xt.shape: (500, 39115)\n",
      "log_prior.shape: (20, 1)\n",
      "self.sigma.shape: (20, 1, 39115)\n",
      "self.mu.shape (20, 1, 39115)\n",
      "xt.shape: (1, 500, 39115)\n",
      "log_posterior.shape: (20, 500)\n",
      "\n",
      "----------------- Fold 1 -----------------\n",
      "----------- Batch 0 -----------\n",
      "xt.shape: (500, 39115)\n",
      "log_prior.shape: (20, 1)\n",
      "self.sigma.shape: (20, 1, 39115)\n",
      "self.mu.shape (20, 1, 39115)\n",
      "xt.shape: (1, 500, 39115)\n",
      "log_posterior.shape: (20, 500)\n",
      "----------- Batch 1 -----------\n",
      "xt.shape: (500, 39115)\n",
      "log_prior.shape: (20, 1)\n",
      "self.sigma.shape: (20, 1, 39115)\n",
      "self.mu.shape (20, 1, 39115)\n",
      "xt.shape: (1, 500, 39115)\n",
      "log_posterior.shape: (20, 500)\n",
      "----------- Batch 2 -----------\n",
      "xt.shape: (500, 39115)\n",
      "log_prior.shape: (20, 1)\n",
      "self.sigma.shape: (20, 1, 39115)\n",
      "self.mu.shape (20, 1, 39115)\n",
      "xt.shape: (1, 500, 39115)\n",
      "log_posterior.shape: (20, 500)\n",
      "----------- Batch 3 -----------\n",
      "xt.shape: (500, 39115)\n",
      "log_prior.shape: (20, 1)\n",
      "self.sigma.shape: (20, 1, 39115)\n",
      "self.mu.shape (20, 1, 39115)\n",
      "xt.shape: (1, 500, 39115)\n",
      "log_posterior.shape: (20, 500)\n",
      "\n",
      "----------------- Fold 2 -----------------\n",
      "----------- Batch 0 -----------\n",
      "xt.shape: (500, 39115)\n",
      "log_prior.shape: (20, 1)\n",
      "self.sigma.shape: (20, 1, 39115)\n",
      "self.mu.shape (20, 1, 39115)\n",
      "xt.shape: (1, 500, 39115)\n",
      "log_posterior.shape: (20, 500)\n",
      "----------- Batch 1 -----------\n",
      "xt.shape: (500, 39115)\n",
      "log_prior.shape: (20, 1)\n",
      "self.sigma.shape: (20, 1, 39115)\n",
      "self.mu.shape (20, 1, 39115)\n",
      "xt.shape: (1, 500, 39115)\n",
      "log_posterior.shape: (20, 500)\n",
      "----------- Batch 2 -----------\n",
      "xt.shape: (500, 39115)\n",
      "log_prior.shape: (20, 1)\n",
      "self.sigma.shape: (20, 1, 39115)\n",
      "self.mu.shape (20, 1, 39115)\n",
      "xt.shape: (1, 500, 39115)\n",
      "log_posterior.shape: (20, 500)\n",
      "----------- Batch 3 -----------\n",
      "xt.shape: (500, 39115)\n",
      "log_prior.shape: (20, 1)\n",
      "self.sigma.shape: (20, 1, 39115)\n",
      "self.mu.shape (20, 1, 39115)\n",
      "xt.shape: (1, 500, 39115)\n",
      "log_posterior.shape: (20, 500)\n",
      "\n",
      "----------------- Fold 3 -----------------\n",
      "----------- Batch 0 -----------\n",
      "xt.shape: (500, 39115)\n",
      "log_prior.shape: (20, 1)\n",
      "self.sigma.shape: (20, 1, 39115)\n",
      "self.mu.shape (20, 1, 39115)\n",
      "xt.shape: (1, 500, 39115)\n",
      "log_posterior.shape: (20, 500)\n",
      "----------- Batch 1 -----------\n",
      "xt.shape: (500, 39115)\n",
      "log_prior.shape: (20, 1)\n",
      "self.sigma.shape: (20, 1, 39115)\n",
      "self.mu.shape (20, 1, 39115)\n",
      "xt.shape: (1, 500, 39115)\n",
      "log_posterior.shape: (20, 500)\n",
      "----------- Batch 2 -----------\n",
      "xt.shape: (500, 39115)\n",
      "log_prior.shape: (20, 1)\n",
      "self.sigma.shape: (20, 1, 39115)\n",
      "self.mu.shape (20, 1, 39115)\n",
      "xt.shape: (1, 500, 39115)\n",
      "log_posterior.shape: (20, 500)\n",
      "----------- Batch 3 -----------\n",
      "xt.shape: (500, 39115)\n",
      "log_prior.shape: (20, 1)\n",
      "self.sigma.shape: (20, 1, 39115)\n",
      "self.mu.shape (20, 1, 39115)\n",
      "xt.shape: (1, 500, 39115)\n",
      "log_posterior.shape: (20, 500)\n",
      "\n",
      "----------------- Fold 4 -----------------\n",
      "----------- Batch 0 -----------\n",
      "xt.shape: (500, 39115)\n",
      "log_prior.shape: (20, 1)\n",
      "self.sigma.shape: (20, 1, 39115)\n",
      "self.mu.shape (20, 1, 39115)\n",
      "xt.shape: (1, 500, 39115)\n",
      "log_posterior.shape: (20, 500)\n",
      "----------- Batch 1 -----------\n",
      "xt.shape: (500, 39115)\n",
      "log_prior.shape: (20, 1)\n",
      "self.sigma.shape: (20, 1, 39115)\n",
      "self.mu.shape (20, 1, 39115)\n",
      "xt.shape: (1, 500, 39115)\n",
      "log_posterior.shape: (20, 500)\n",
      "----------- Batch 2 -----------\n",
      "xt.shape: (500, 39115)\n",
      "log_prior.shape: (20, 1)\n",
      "self.sigma.shape: (20, 1, 39115)\n",
      "self.mu.shape (20, 1, 39115)\n",
      "xt.shape: (1, 500, 39115)\n",
      "log_posterior.shape: (20, 500)\n",
      "----------- Batch 3 -----------\n",
      "xt.shape: (500, 39115)\n",
      "log_prior.shape: (20, 1)\n",
      "self.sigma.shape: (20, 1, 39115)\n",
      "self.mu.shape (20, 1, 39115)\n",
      "xt.shape: (1, 500, 39115)\n",
      "log_posterior.shape: (20, 500)\n",
      "\n",
      "\n",
      "Mean Accuracy 0.6272\n"
     ]
    }
   ],
   "source": [
    "model = GaussianNaiveBayes()\n",
    "\n",
    "# split test data in two\n",
    "accuracies=kfoldCV(x_twenty_train, y_twenty_train, model, n_folds=5)\n",
    "print(\"\\n\\nMean Accuracy\", np.mean(accuracies))"
   ]
  },
  {
   "cell_type": "code",
   "execution_count": 24,
   "metadata": {},
   "outputs": [
    {
     "data": {
      "text/plain": [
       "[0.6305, 0.6135, 0.6215, 0.6345, 0.636]"
      ]
     },
     "execution_count": 24,
     "metadata": {},
     "output_type": "execute_result"
    }
   ],
   "source": [
    "accuracies"
   ]
  },
  {
   "cell_type": "markdown",
   "metadata": {
    "id": "KAZVh0fuiFqy"
   },
   "source": [
    "#### Softmax"
   ]
  },
  {
   "cell_type": "markdown",
   "metadata": {
    "id": "6Wc3SHNfD26l"
   },
   "source": [
    "##### Test regularization strenght softmax"
   ]
  },
  {
   "cell_type": "code",
   "execution_count": 25,
   "metadata": {
    "id": "l7OyuEeeBuSF",
    "scrolled": true
   },
   "outputs": [
    {
     "name": "stdout",
     "output_type": "stream",
     "text": [
      "\n",
      "\n",
      "C: 0.5 \n",
      "\n",
      "\n",
      "\n",
      "----------------- Fold 0 -----------------\n",
      "----------- Batch 0 -----------\n",
      "\n",
      "----------------- Fold 1 -----------------\n",
      "----------- Batch 0 -----------\n",
      "\n",
      "----------------- Fold 2 -----------------\n",
      "----------- Batch 0 -----------\n",
      "\n",
      "----------------- Fold 3 -----------------\n",
      "----------- Batch 0 -----------\n",
      "\n",
      "----------------- Fold 4 -----------------\n",
      "----------- Batch 0 -----------\n",
      "\n",
      "\n",
      "C: 0.75 \n",
      "\n",
      "\n",
      "\n",
      "----------------- Fold 0 -----------------\n",
      "----------- Batch 0 -----------\n",
      "\n",
      "----------------- Fold 1 -----------------\n",
      "----------- Batch 0 -----------\n",
      "\n",
      "----------------- Fold 2 -----------------\n",
      "----------- Batch 0 -----------\n",
      "\n",
      "----------------- Fold 3 -----------------\n",
      "----------- Batch 0 -----------\n",
      "\n",
      "----------------- Fold 4 -----------------\n",
      "----------- Batch 0 -----------\n",
      "\n",
      "\n",
      "C: 1.0 \n",
      "\n",
      "\n",
      "\n",
      "----------------- Fold 0 -----------------\n",
      "----------- Batch 0 -----------\n",
      "\n",
      "----------------- Fold 1 -----------------\n",
      "----------- Batch 0 -----------\n",
      "\n",
      "----------------- Fold 2 -----------------\n",
      "----------- Batch 0 -----------\n",
      "\n",
      "----------------- Fold 3 -----------------\n",
      "----------- Batch 0 -----------\n",
      "\n",
      "----------------- Fold 4 -----------------\n",
      "----------- Batch 0 -----------\n",
      "\n",
      "\n",
      "C: 1.25 \n",
      "\n",
      "\n",
      "\n",
      "----------------- Fold 0 -----------------\n",
      "----------- Batch 0 -----------\n",
      "\n",
      "----------------- Fold 1 -----------------\n",
      "----------- Batch 0 -----------\n",
      "\n",
      "----------------- Fold 2 -----------------\n",
      "----------- Batch 0 -----------\n",
      "\n",
      "----------------- Fold 3 -----------------\n",
      "----------- Batch 0 -----------\n",
      "\n",
      "----------------- Fold 4 -----------------\n",
      "----------- Batch 0 -----------\n",
      "\n",
      "\n",
      "C: 1.5 \n",
      "\n",
      "\n",
      "\n",
      "----------------- Fold 0 -----------------\n",
      "----------- Batch 0 -----------\n",
      "\n",
      "----------------- Fold 1 -----------------\n",
      "----------- Batch 0 -----------\n",
      "\n",
      "----------------- Fold 2 -----------------\n",
      "----------- Batch 0 -----------\n",
      "\n",
      "----------------- Fold 3 -----------------\n",
      "----------- Batch 0 -----------\n",
      "\n",
      "----------------- Fold 4 -----------------\n",
      "----------- Batch 0 -----------\n",
      "\n",
      "\n",
      "C: 1.75 \n",
      "\n",
      "\n",
      "\n",
      "----------------- Fold 0 -----------------\n",
      "----------- Batch 0 -----------\n",
      "\n",
      "----------------- Fold 1 -----------------\n",
      "----------- Batch 0 -----------\n",
      "\n",
      "----------------- Fold 2 -----------------\n",
      "----------- Batch 0 -----------\n",
      "\n",
      "----------------- Fold 3 -----------------\n",
      "----------- Batch 0 -----------\n",
      "\n",
      "----------------- Fold 4 -----------------\n",
      "----------- Batch 0 -----------\n",
      "\n",
      "\n",
      "C: 2.0 \n",
      "\n",
      "\n",
      "\n",
      "----------------- Fold 0 -----------------\n",
      "----------- Batch 0 -----------\n",
      "\n",
      "----------------- Fold 1 -----------------\n",
      "----------- Batch 0 -----------\n",
      "\n",
      "----------------- Fold 2 -----------------\n",
      "----------- Batch 0 -----------\n",
      "\n",
      "----------------- Fold 3 -----------------\n",
      "----------- Batch 0 -----------\n",
      "\n",
      "----------------- Fold 4 -----------------\n",
      "----------- Batch 0 -----------\n",
      "\n",
      "\n",
      "C: 2.25 \n",
      "\n",
      "\n",
      "\n",
      "----------------- Fold 0 -----------------\n",
      "----------- Batch 0 -----------\n",
      "\n",
      "----------------- Fold 1 -----------------\n",
      "----------- Batch 0 -----------\n",
      "\n",
      "----------------- Fold 2 -----------------\n",
      "----------- Batch 0 -----------\n",
      "\n",
      "----------------- Fold 3 -----------------\n",
      "----------- Batch 0 -----------\n",
      "\n",
      "----------------- Fold 4 -----------------\n",
      "----------- Batch 0 -----------\n",
      "\n",
      "\n",
      "C: 2.5 \n",
      "\n",
      "\n",
      "\n",
      "----------------- Fold 0 -----------------\n",
      "----------- Batch 0 -----------\n",
      "\n",
      "----------------- Fold 1 -----------------\n",
      "----------- Batch 0 -----------\n",
      "\n",
      "----------------- Fold 2 -----------------\n",
      "----------- Batch 0 -----------\n",
      "\n",
      "----------------- Fold 3 -----------------\n",
      "----------- Batch 0 -----------\n",
      "\n",
      "----------------- Fold 4 -----------------\n",
      "----------- Batch 0 -----------\n",
      "\n",
      "\n",
      "C: 2.75 \n",
      "\n",
      "\n",
      "\n",
      "----------------- Fold 0 -----------------\n",
      "----------- Batch 0 -----------\n",
      "\n",
      "----------------- Fold 1 -----------------\n",
      "----------- Batch 0 -----------\n",
      "\n",
      "----------------- Fold 2 -----------------\n",
      "----------- Batch 0 -----------\n",
      "\n",
      "----------------- Fold 3 -----------------\n",
      "----------- Batch 0 -----------\n",
      "\n",
      "----------------- Fold 4 -----------------\n",
      "----------- Batch 0 -----------\n"
     ]
    },
    {
     "data": {
      "image/png": "[encoded data removed]",
      "text/plain": [
       "<Figure size 432x288 with 1 Axes>"
      ]
     },
     "metadata": {
      "needs_background": "light"
     },
     "output_type": "display_data"
    },
    {
     "name": "stdout",
     "output_type": "stream",
     "text": [
      "The best C: 2.5 with accuracy of: 0.7497\n"
     ]
    }
   ],
   "source": [
    "score=[]\n",
    "cs=list(np.arange(0.5,3,0.25))\n",
    "for c in cs:\n",
    "    print(\"\\n\\nC:\", c, \"\\n\\n\")\n",
    "    clf = LogisticRegression(C=c, multi_class='auto', solver='liblinear', max_iter=200, tol=1e-3)\n",
    "    accuracy=kfoldCV(x_twenty_train, y_twenty_train, clf, n_folds=5, batch_size=5000)\n",
    "    score.append(np.mean(accuracy))\n",
    "    \n",
    "plt.plot(cs, score, 'o-', markerfacecolor='blue', color='blue')\n",
    "plt.title('Tuning Inverse of regularization strength for the logistic regression 20NewsGroup')\n",
    "plt.ylabel('overall accuracy')\n",
    "plt.xlabel('Inverse of regularization strength')\n",
    "plt.show()\n",
    "print(\"The best C:\",cs[np.argmax(score)],\"with accuracy of:\",max(score))\n",
    "best_c_20=cs[np.argmax(score)]"
   ]
  },
  {
   "cell_type": "markdown",
   "metadata": {
    "id": "EMki1GeyAXvU"
   },
   "source": [
    "##### Test different penalty function softmax"
   ]
  },
  {
   "cell_type": "code",
   "execution_count": 26,
   "metadata": {
    "id": "W9eYuACX2PV3",
    "scrolled": true
   },
   "outputs": [
    {
     "name": "stdout",
     "output_type": "stream",
     "text": [
      "\n",
      "\n",
      "Penalty: l1 \n",
      "\n",
      "\n",
      "\n",
      "----------------- Fold 0 -----------------\n",
      "----------- Batch 0 -----------\n"
     ]
    },
    {
     "name": "stderr",
     "output_type": "stream",
     "text": [
      "/Users/KarlKoerich/opt/anaconda3/lib/python3.8/site-packages/sklearn/linear_model/_logistic.py:1317: UserWarning: l1_ratio parameter is only used when penalty is 'elasticnet'. Got (penalty=l1)\n",
      "  warnings.warn(\"l1_ratio parameter is only used when penalty is \"\n"
     ]
    },
    {
     "name": "stdout",
     "output_type": "stream",
     "text": [
      "\n",
      "----------------- Fold 1 -----------------\n",
      "----------- Batch 0 -----------\n"
     ]
    },
    {
     "name": "stderr",
     "output_type": "stream",
     "text": [
      "/Users/KarlKoerich/opt/anaconda3/lib/python3.8/site-packages/sklearn/linear_model/_logistic.py:1317: UserWarning: l1_ratio parameter is only used when penalty is 'elasticnet'. Got (penalty=l1)\n",
      "  warnings.warn(\"l1_ratio parameter is only used when penalty is \"\n",
      "/Users/KarlKoerich/opt/anaconda3/lib/python3.8/site-packages/sklearn/linear_model/_sag.py:328: ConvergenceWarning: The max_iter was reached which means the coef_ did not converge\n",
      "  warnings.warn(\"The max_iter was reached which means \"\n",
      "/Users/KarlKoerich/opt/anaconda3/lib/python3.8/site-packages/sklearn/linear_model/_logistic.py:1317: UserWarning: l1_ratio parameter is only used when penalty is 'elasticnet'. Got (penalty=l1)\n",
      "  warnings.warn(\"l1_ratio parameter is only used when penalty is \"\n"
     ]
    },
    {
     "name": "stdout",
     "output_type": "stream",
     "text": [
      "\n",
      "----------------- Fold 2 -----------------\n",
      "----------- Batch 0 -----------\n",
      "\n",
      "----------------- Fold 3 -----------------\n",
      "----------- Batch 0 -----------\n"
     ]
    },
    {
     "name": "stderr",
     "output_type": "stream",
     "text": [
      "/Users/KarlKoerich/opt/anaconda3/lib/python3.8/site-packages/sklearn/linear_model/_logistic.py:1317: UserWarning: l1_ratio parameter is only used when penalty is 'elasticnet'. Got (penalty=l1)\n",
      "  warnings.warn(\"l1_ratio parameter is only used when penalty is \"\n",
      "/Users/KarlKoerich/opt/anaconda3/lib/python3.8/site-packages/sklearn/linear_model/_sag.py:328: ConvergenceWarning: The max_iter was reached which means the coef_ did not converge\n",
      "  warnings.warn(\"The max_iter was reached which means \"\n",
      "/Users/KarlKoerich/opt/anaconda3/lib/python3.8/site-packages/sklearn/linear_model/_logistic.py:1317: UserWarning: l1_ratio parameter is only used when penalty is 'elasticnet'. Got (penalty=l1)\n",
      "  warnings.warn(\"l1_ratio parameter is only used when penalty is \"\n"
     ]
    },
    {
     "name": "stdout",
     "output_type": "stream",
     "text": [
      "\n",
      "----------------- Fold 4 -----------------\n",
      "----------- Batch 0 -----------\n"
     ]
    },
    {
     "name": "stderr",
     "output_type": "stream",
     "text": [
      "/Users/KarlKoerich/opt/anaconda3/lib/python3.8/site-packages/sklearn/linear_model/_sag.py:328: ConvergenceWarning: The max_iter was reached which means the coef_ did not converge\n",
      "  warnings.warn(\"The max_iter was reached which means \"\n",
      "/Users/KarlKoerich/opt/anaconda3/lib/python3.8/site-packages/sklearn/linear_model/_logistic.py:1317: UserWarning: l1_ratio parameter is only used when penalty is 'elasticnet'. Got (penalty=l2)\n",
      "  warnings.warn(\"l1_ratio parameter is only used when penalty is \"\n"
     ]
    },
    {
     "name": "stdout",
     "output_type": "stream",
     "text": [
      "\n",
      "\n",
      "Penalty: l2 \n",
      "\n",
      "\n",
      "\n",
      "----------------- Fold 0 -----------------\n",
      "----------- Batch 0 -----------\n",
      "\n",
      "----------------- Fold 1 -----------------\n",
      "----------- Batch 0 -----------\n"
     ]
    },
    {
     "name": "stderr",
     "output_type": "stream",
     "text": [
      "/Users/KarlKoerich/opt/anaconda3/lib/python3.8/site-packages/sklearn/linear_model/_logistic.py:1317: UserWarning: l1_ratio parameter is only used when penalty is 'elasticnet'. Got (penalty=l2)\n",
      "  warnings.warn(\"l1_ratio parameter is only used when penalty is \"\n"
     ]
    },
    {
     "name": "stdout",
     "output_type": "stream",
     "text": [
      "\n",
      "----------------- Fold 2 -----------------\n",
      "----------- Batch 0 -----------\n"
     ]
    },
    {
     "name": "stderr",
     "output_type": "stream",
     "text": [
      "/Users/KarlKoerich/opt/anaconda3/lib/python3.8/site-packages/sklearn/linear_model/_logistic.py:1317: UserWarning: l1_ratio parameter is only used when penalty is 'elasticnet'. Got (penalty=l2)\n",
      "  warnings.warn(\"l1_ratio parameter is only used when penalty is \"\n"
     ]
    },
    {
     "name": "stdout",
     "output_type": "stream",
     "text": [
      "\n",
      "----------------- Fold 3 -----------------\n",
      "----------- Batch 0 -----------\n"
     ]
    },
    {
     "name": "stderr",
     "output_type": "stream",
     "text": [
      "/Users/KarlKoerich/opt/anaconda3/lib/python3.8/site-packages/sklearn/linear_model/_logistic.py:1317: UserWarning: l1_ratio parameter is only used when penalty is 'elasticnet'. Got (penalty=l2)\n",
      "  warnings.warn(\"l1_ratio parameter is only used when penalty is \"\n"
     ]
    },
    {
     "name": "stdout",
     "output_type": "stream",
     "text": [
      "\n",
      "----------------- Fold 4 -----------------\n",
      "----------- Batch 0 -----------\n"
     ]
    },
    {
     "name": "stderr",
     "output_type": "stream",
     "text": [
      "/Users/KarlKoerich/opt/anaconda3/lib/python3.8/site-packages/sklearn/linear_model/_logistic.py:1317: UserWarning: l1_ratio parameter is only used when penalty is 'elasticnet'. Got (penalty=l2)\n",
      "  warnings.warn(\"l1_ratio parameter is only used when penalty is \"\n"
     ]
    },
    {
     "name": "stdout",
     "output_type": "stream",
     "text": [
      "\n",
      "\n",
      "Penalty: elasticnet \n",
      "\n",
      "\n",
      "\n",
      "----------------- Fold 0 -----------------\n",
      "----------- Batch 0 -----------\n",
      "\n",
      "----------------- Fold 1 -----------------\n",
      "----------- Batch 0 -----------\n",
      "\n",
      "----------------- Fold 2 -----------------\n",
      "----------- Batch 0 -----------\n",
      "\n",
      "----------------- Fold 3 -----------------\n",
      "----------- Batch 0 -----------\n",
      "\n",
      "----------------- Fold 4 -----------------\n",
      "----------- Batch 0 -----------\n",
      "\n",
      "\n",
      "Penalty: none \n",
      "\n",
      "\n",
      "\n",
      "----------------- Fold 0 -----------------\n",
      "----------- Batch 0 -----------\n"
     ]
    },
    {
     "name": "stderr",
     "output_type": "stream",
     "text": [
      "/Users/KarlKoerich/opt/anaconda3/lib/python3.8/site-packages/sklearn/linear_model/_logistic.py:1317: UserWarning: l1_ratio parameter is only used when penalty is 'elasticnet'. Got (penalty=none)\n",
      "  warnings.warn(\"l1_ratio parameter is only used when penalty is \"\n",
      "/Users/KarlKoerich/opt/anaconda3/lib/python3.8/site-packages/sklearn/linear_model/_logistic.py:1322: UserWarning: Setting penalty='none' will ignore the C and l1_ratio parameters\n",
      "  warnings.warn(\n"
     ]
    },
    {
     "name": "stdout",
     "output_type": "stream",
     "text": [
      "\n",
      "----------------- Fold 1 -----------------\n",
      "----------- Batch 0 -----------\n"
     ]
    },
    {
     "name": "stderr",
     "output_type": "stream",
     "text": [
      "/Users/KarlKoerich/opt/anaconda3/lib/python3.8/site-packages/sklearn/linear_model/_logistic.py:1317: UserWarning: l1_ratio parameter is only used when penalty is 'elasticnet'. Got (penalty=none)\n",
      "  warnings.warn(\"l1_ratio parameter is only used when penalty is \"\n",
      "/Users/KarlKoerich/opt/anaconda3/lib/python3.8/site-packages/sklearn/linear_model/_logistic.py:1322: UserWarning: Setting penalty='none' will ignore the C and l1_ratio parameters\n",
      "  warnings.warn(\n"
     ]
    },
    {
     "name": "stdout",
     "output_type": "stream",
     "text": [
      "\n",
      "----------------- Fold 2 -----------------\n",
      "----------- Batch 0 -----------\n"
     ]
    },
    {
     "name": "stderr",
     "output_type": "stream",
     "text": [
      "/Users/KarlKoerich/opt/anaconda3/lib/python3.8/site-packages/sklearn/linear_model/_logistic.py:1317: UserWarning: l1_ratio parameter is only used when penalty is 'elasticnet'. Got (penalty=none)\n",
      "  warnings.warn(\"l1_ratio parameter is only used when penalty is \"\n",
      "/Users/KarlKoerich/opt/anaconda3/lib/python3.8/site-packages/sklearn/linear_model/_logistic.py:1322: UserWarning: Setting penalty='none' will ignore the C and l1_ratio parameters\n",
      "  warnings.warn(\n"
     ]
    },
    {
     "name": "stdout",
     "output_type": "stream",
     "text": [
      "\n",
      "----------------- Fold 3 -----------------\n",
      "----------- Batch 0 -----------\n"
     ]
    },
    {
     "name": "stderr",
     "output_type": "stream",
     "text": [
      "/Users/KarlKoerich/opt/anaconda3/lib/python3.8/site-packages/sklearn/linear_model/_logistic.py:1317: UserWarning: l1_ratio parameter is only used when penalty is 'elasticnet'. Got (penalty=none)\n",
      "  warnings.warn(\"l1_ratio parameter is only used when penalty is \"\n",
      "/Users/KarlKoerich/opt/anaconda3/lib/python3.8/site-packages/sklearn/linear_model/_logistic.py:1322: UserWarning: Setting penalty='none' will ignore the C and l1_ratio parameters\n",
      "  warnings.warn(\n"
     ]
    },
    {
     "name": "stdout",
     "output_type": "stream",
     "text": [
      "\n",
      "----------------- Fold 4 -----------------\n",
      "----------- Batch 0 -----------\n"
     ]
    },
    {
     "name": "stderr",
     "output_type": "stream",
     "text": [
      "/Users/KarlKoerich/opt/anaconda3/lib/python3.8/site-packages/sklearn/linear_model/_logistic.py:1317: UserWarning: l1_ratio parameter is only used when penalty is 'elasticnet'. Got (penalty=none)\n",
      "  warnings.warn(\"l1_ratio parameter is only used when penalty is \"\n",
      "/Users/KarlKoerich/opt/anaconda3/lib/python3.8/site-packages/sklearn/linear_model/_logistic.py:1322: UserWarning: Setting penalty='none' will ignore the C and l1_ratio parameters\n",
      "  warnings.warn(\n"
     ]
    },
    {
     "data": {
      "image/png": "[encoded data removed]",
      "text/plain": [
       "<Figure size 432x288 with 1 Axes>"
      ]
     },
     "metadata": {
      "needs_background": "light"
     },
     "output_type": "display_data"
    },
    {
     "name": "stdout",
     "output_type": "stream",
     "text": [
      "The best penalty: none with accuracy of: 0.7475\n"
     ]
    }
   ],
   "source": [
    "score=[]\n",
    "cs=[\"l1\",\"l2\", \"elasticnet\",'none' ]\n",
    "for c in cs:\n",
    "    print(\"\\n\\nPenalty:\", c, \"\\n\\n\")\n",
    "    clf = LogisticRegression(C=2.0, multi_class='auto', solver='saga', penalty=c,max_iter=200, tol=1e-3, l1_ratio=0.5)\n",
    "    accuracy=kfoldCV(x_twenty_train, y_twenty_train, clf, n_folds=5, batch_size=5000)\n",
    "\n",
    "    score.append(np.mean(accuracy))\n",
    "    \n",
    "plt.plot(cs, score, 'o-', markerfacecolor='blue', color='blue')\n",
    "plt.title('Penalty for the logistic regression for 20 newsgroup')\n",
    "plt.ylabel('overall accuracy')\n",
    "plt.xlabel('Penalty')\n",
    "plt.show()\n",
    "print(\"The best penalty:\",cs[np.argmax(score)],\"with accuracy of:\",max(score))\n",
    "best_penalty_20=cs[np.argmax(score)]"
   ]
  },
  {
   "cell_type": "markdown",
   "metadata": {
    "id": "ingbzib5saaJ"
   },
   "source": [
    "#### Training Set Variation\n",
    "Naive Bayes:"
   ]
  },
  {
   "cell_type": "code",
   "execution_count": 27,
   "metadata": {
    "id": "nAuq5H7hsea3",
    "scrolled": false
   },
   "outputs": [
    {
     "name": "stdout",
     "output_type": "stream",
     "text": [
      "xt.shape: (500, 39115)\n",
      "log_prior.shape: (20, 1)\n",
      "self.sigma.shape: (20, 1, 39115)\n",
      "self.mu.shape (20, 1, 39115)\n",
      "xt.shape: (1, 500, 39115)\n",
      "log_posterior.shape: (20, 500)\n",
      "xt.shape: (814, 39115)\n",
      "log_prior.shape: (20, 1)\n",
      "self.sigma.shape: (20, 1, 39115)\n",
      "self.mu.shape (20, 1, 39115)\n",
      "xt.shape: (1, 814, 39115)\n",
      "log_posterior.shape: (20, 814)\n",
      "xt.shape: (500, 39115)\n",
      "log_prior.shape: (20, 1)\n",
      "self.sigma.shape: (20, 1, 39115)\n",
      "self.mu.shape (20, 1, 39115)\n",
      "xt.shape: (1, 500, 39115)\n",
      "log_posterior.shape: (20, 500)\n",
      "xt.shape: (814, 39115)\n",
      "log_prior.shape: (20, 1)\n",
      "self.sigma.shape: (20, 1, 39115)\n",
      "self.mu.shape (20, 1, 39115)\n",
      "xt.shape: (1, 814, 39115)\n",
      "log_posterior.shape: (20, 814)\n",
      "xt.shape: (500, 39115)\n",
      "log_prior.shape: (20, 1)\n",
      "self.sigma.shape: (20, 1, 39115)\n",
      "self.mu.shape (20, 1, 39115)\n",
      "xt.shape: (1, 500, 39115)\n",
      "log_posterior.shape: (20, 500)\n",
      "xt.shape: (814, 39115)\n",
      "log_prior.shape: (20, 1)\n",
      "self.sigma.shape: (20, 1, 39115)\n",
      "self.mu.shape (20, 1, 39115)\n",
      "xt.shape: (1, 814, 39115)\n",
      "log_posterior.shape: (20, 814)\n",
      "xt.shape: (500, 39115)\n",
      "log_prior.shape: (20, 1)\n",
      "self.sigma.shape: (20, 1, 39115)\n",
      "self.mu.shape (20, 1, 39115)\n",
      "xt.shape: (1, 500, 39115)\n",
      "log_posterior.shape: (20, 500)\n",
      "xt.shape: (814, 39115)\n",
      "log_prior.shape: (20, 1)\n",
      "self.sigma.shape: (20, 1, 39115)\n",
      "self.mu.shape (20, 1, 39115)\n",
      "xt.shape: (1, 814, 39115)\n",
      "log_posterior.shape: (20, 814)\n",
      "xt.shape: (500, 39115)\n",
      "log_prior.shape: (20, 1)\n",
      "self.sigma.shape: (20, 1, 39115)\n",
      "self.mu.shape (20, 1, 39115)\n",
      "xt.shape: (1, 500, 39115)\n",
      "log_posterior.shape: (20, 500)\n",
      "xt.shape: (814, 39115)\n",
      "log_prior.shape: (20, 1)\n",
      "self.sigma.shape: (20, 1, 39115)\n",
      "self.mu.shape (20, 1, 39115)\n",
      "xt.shape: (1, 814, 39115)\n",
      "log_posterior.shape: (20, 814)\n"
     ]
    },
    {
     "data": {
      "image/png": "[encoded data removed]",
      "text/plain": [
       "<Figure size 432x288 with 1 Axes>"
      ]
     },
     "metadata": {
      "needs_background": "light"
     },
     "output_type": "display_data"
    },
    {
     "name": "stdout",
     "output_type": "stream",
     "text": [
      "The best split: 10000 with accuracy of: 0.6468797564687976\n"
     ]
    }
   ],
   "source": [
    "score = []\n",
    "data_split = [2000, 4000, 6000, 8000, 10000]\n",
    "model = GaussianNaiveBayes()\n",
    "\n",
    "for split in data_split:\n",
    "    x_twenty_train_split, y_twenty_train_split = x_twenty_train[:split], y_twenty_train[:split]\n",
    "\n",
    "    # split test data in two\n",
    "    model.fit(x_twenty_train_split, y_twenty_train_split)\n",
    "    x_twenty_test1 = x_twenty_test[:500]\n",
    "    y_prob1 = model.predict(x_twenty_test1)\n",
    "\n",
    "    model.fit(x_twenty_train_split, y_twenty_train_split)\n",
    "    x_twenty_test2= x_twenty_test[500:]\n",
    "    y_prob2 = model.predict(x_twenty_test2)\n",
    "\n",
    "    y_prob = np.append(y_prob1, y_prob2, axis=0)\n",
    "    y_pred = np.argmax(y_prob, 1)\n",
    "    accuracy = np.sum(y_pred == y_twenty_test)/y_pred.shape[0]\n",
    "    score.append(accuracy)\n",
    "\n",
    "plt.plot(data_split, score, 'o-', markerfacecolor='orange', color='orange')\n",
    "plt.title('Accuracy of Varying Training Data Size using Naive Bayes on 20NewsGroup')\n",
    "plt.ylabel('overall accuracy')\n",
    "plt.xlabel('Training Size')\n",
    "plt.show()\n",
    "print(\"The best split:\",data_split[np.argmax(score)],\"with accuracy of:\",max(score))"
   ]
  },
  {
   "cell_type": "markdown",
   "metadata": {
    "id": "81-TXaIn2HDv"
   },
   "source": [
    "Softmax regression:"
   ]
  },
  {
   "cell_type": "code",
   "execution_count": 28,
   "metadata": {
    "id": "-xOMWNda2LW0",
    "scrolled": false
   },
   "outputs": [
    {
     "name": "stderr",
     "output_type": "stream",
     "text": [
      "/Users/KarlKoerich/opt/anaconda3/lib/python3.8/site-packages/sklearn/linear_model/_logistic.py:1317: UserWarning: l1_ratio parameter is only used when penalty is 'elasticnet'. Got (penalty=none)\n",
      "  warnings.warn(\"l1_ratio parameter is only used when penalty is \"\n",
      "/Users/KarlKoerich/opt/anaconda3/lib/python3.8/site-packages/sklearn/linear_model/_logistic.py:1322: UserWarning: Setting penalty='none' will ignore the C and l1_ratio parameters\n",
      "  warnings.warn(\n",
      "/Users/KarlKoerich/opt/anaconda3/lib/python3.8/site-packages/sklearn/linear_model/_logistic.py:1317: UserWarning: l1_ratio parameter is only used when penalty is 'elasticnet'. Got (penalty=none)\n",
      "  warnings.warn(\"l1_ratio parameter is only used when penalty is \"\n",
      "/Users/KarlKoerich/opt/anaconda3/lib/python3.8/site-packages/sklearn/linear_model/_logistic.py:1322: UserWarning: Setting penalty='none' will ignore the C and l1_ratio parameters\n",
      "  warnings.warn(\n",
      "/Users/KarlKoerich/opt/anaconda3/lib/python3.8/site-packages/sklearn/linear_model/_logistic.py:1317: UserWarning: l1_ratio parameter is only used when penalty is 'elasticnet'. Got (penalty=none)\n",
      "  warnings.warn(\"l1_ratio parameter is only used when penalty is \"\n",
      "/Users/KarlKoerich/opt/anaconda3/lib/python3.8/site-packages/sklearn/linear_model/_logistic.py:1322: UserWarning: Setting penalty='none' will ignore the C and l1_ratio parameters\n",
      "  warnings.warn(\n",
      "/Users/KarlKoerich/opt/anaconda3/lib/python3.8/site-packages/sklearn/linear_model/_logistic.py:1317: UserWarning: l1_ratio parameter is only used when penalty is 'elasticnet'. Got (penalty=none)\n",
      "  warnings.warn(\"l1_ratio parameter is only used when penalty is \"\n",
      "/Users/KarlKoerich/opt/anaconda3/lib/python3.8/site-packages/sklearn/linear_model/_logistic.py:1322: UserWarning: Setting penalty='none' will ignore the C and l1_ratio parameters\n",
      "  warnings.warn(\n",
      "/Users/KarlKoerich/opt/anaconda3/lib/python3.8/site-packages/sklearn/linear_model/_logistic.py:1317: UserWarning: l1_ratio parameter is only used when penalty is 'elasticnet'. Got (penalty=none)\n",
      "  warnings.warn(\"l1_ratio parameter is only used when penalty is \"\n",
      "/Users/KarlKoerich/opt/anaconda3/lib/python3.8/site-packages/sklearn/linear_model/_logistic.py:1322: UserWarning: Setting penalty='none' will ignore the C and l1_ratio parameters\n",
      "  warnings.warn(\n"
     ]
    },
    {
     "data": {
      "image/png": "[encoded data removed]",
      "text/plain": [
       "<Figure size 432x288 with 1 Axes>"
      ]
     },
     "metadata": {
      "needs_background": "light"
     },
     "output_type": "display_data"
    },
    {
     "name": "stdout",
     "output_type": "stream",
     "text": [
      "The best split: 10000 with accuracy of: 0.7503805175038052\n"
     ]
    }
   ],
   "source": [
    "score = []\n",
    "data_split = [2000, 4000, 6000, 8000, 10000]\n",
    "\n",
    "for split in data_split:\n",
    "    x_twenty_train_split, y_twenty_train_split = x_twenty_train[:split], y_twenty_train[:split]\n",
    "\n",
    "    clf = LogisticRegression(C=best_c_20, multi_class='auto', solver='saga', penalty=best_penalty_20,max_iter=200, tol=1e-3, l1_ratio=0.5)\n",
    "    clf.fit(x_twenty_train_split, y_twenty_train_split)\n",
    "    accuracy=evaluate_acc(clf.predict(x_twenty_test), y_twenty_test)\n",
    "\n",
    "    score.append(accuracy)\n",
    "\n",
    "plt.plot(data_split, score, 'o-', markerfacecolor='orange', color='orange')\n",
    "plt.title('Accuracy of Varying Training Data Size using Softmax Regression on 20NewsGroup')\n",
    "plt.ylabel('overall accuracy')\n",
    "plt.xlabel('Training Size')\n",
    "plt.show()\n",
    "print(\"The best split:\",data_split[np.argmax(score)],\"with accuracy of:\",max(score))"
   ]
  },
  {
   "cell_type": "code",
   "execution_count": null,
   "metadata": {},
   "outputs": [],
   "source": []
  }
 ],
 "metadata": {
  "colab": {
   "collapsed_sections": [],
   "name": "Group 31 - MiniProject 2",
   "provenance": [],
   "toc_visible": true
  },
  "kernelspec": {
   "display_name": "Python 3",
   "language": "python",
   "name": "python3"
  },
  "language_info": {
   "codemirror_mode": {
    "name": "ipython",
    "version": 3
   },
   "file_extension": ".py",
   "mimetype": "text/x-python",
   "name": "python",
   "nbconvert_exporter": "python",
   "pygments_lexer": "ipython3",
   "version": "3.8.10"
  }
 },
 "nbformat": 4,
 "nbformat_minor": 1
}
